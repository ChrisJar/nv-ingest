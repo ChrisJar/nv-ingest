{
 "cells": [
  {
   "cell_type": "markdown",
   "id": "3ec1d6fd-397b-4534-a7cb-d48cb2109a59",
   "metadata": {},
   "source": [
    "# Calculate retrieval recall accuracy with NV-Ingest and LlamaIndex"
   ]
  },
  {
   "cell_type": "markdown",
   "id": "d2284648-cfd1-4dfa-b75a-80819f48d9bc",
   "metadata": {},
   "source": [
    "In this notebook, we'll use NV-ingest and LlamaIndex to calculate the end-to-end recall accuracy of a retrieval pipeline made up of NV-Ingest's extraction, embedding, and vector database (VDB) upload tasks and LlamaIndex's retrieval functionality."
   ]
  },
  {
   "cell_type": "markdown",
   "id": "bfbde5ab-5b2f-49b9-bd33-5f8c1aa393cc",
   "metadata": {},
   "source": [
    "**Note:** In order to run this notebook, you'll need to have the NV-Ingest microservice running along with all of the other included microservices. To do this, make sure all of the services are uncommented in the file: [docker-compose.yaml](https://github.com/NVIDIA/nv-ingest/blob/main/docker-compose.yaml) and follow the [quickstart guide](https://github.com/NVIDIA/nv-ingest?tab=readme-ov-file#quickstart) to start everything up."
   ]
  },
  {
   "cell_type": "markdown",
   "id": "6699e6bb-b117-4133-9870-fee4a51626f2",
   "metadata": {},
   "source": [
    "To start, make sure the required LlamaIndex packages are installed and up to date as well as pymilvus"
   ]
  },
  {
   "cell_type": "code",
   "execution_count": null,
   "id": "6cedf470-03fd-49af-b631-bf52e8aea4e6",
   "metadata": {},
   "outputs": [],
   "source": [
    "pip install -qU llama_index llama-index-embeddings-nvidia llama-index-postprocessor-nvidia-rerank llama-index-vector-stores-milvus pymilvus"
   ]
  },
  {
   "cell_type": "markdown",
   "id": "cbbc8d8f-3805-452c-a6cd-9d2c4120441d",
   "metadata": {},
   "source": [
    "## Calculating table recall"
   ]
  },
  {
   "cell_type": "markdown",
   "id": "bae1ede0-d3d0-4bbc-ade5-160963fc61ae",
   "metadata": {},
   "source": [
    "**Important:** nv_ingest_collection in the Milvus VDB must be empty before running so we can make sure that only the tables we're extracting get pulled. This means that the following code should return a row count of `0`."
   ]
  },
  {
   "cell_type": "code",
   "execution_count": 8,
   "id": "f373ceba-d0d2-45d5-ab1a-c03147b93f22",
   "metadata": {},
   "outputs": [
    {
     "data": {
      "text/plain": [
       "{'row_count': 0}"
      ]
     },
     "execution_count": 8,
     "metadata": {},
     "output_type": "execute_result"
    }
   ],
   "source": [
    "from pymilvus import MilvusClient\n",
    "\n",
    "milvus_client = MilvusClient(\"http://localhost:19530\")\n",
    "milvus_client.get_collection_stats(collection_name='nv_ingest_collection')"
   ]
  },
  {
   "cell_type": "code",
   "execution_count": 37,
   "id": "ddfa545c-c4de-4cbd-b1de-14e501e25e38",
   "metadata": {},
   "outputs": [],
   "source": [
    "import os\n",
    "import glob\n",
    "import logging\n",
    "import time\n",
    "import json\n",
    "from tqdm import tqdm\n",
    "from collections import defaultdict\n",
    "import numpy as np\n",
    "import pandas as pd\n",
    "\n",
    "from llama_index.core import VectorStoreIndex\n",
    "from llama_index.vector_stores.milvus import MilvusVectorStore\n",
    "from llama_index.embeddings.nvidia import NVIDIAEmbedding"
   ]
  },
  {
   "cell_type": "markdown",
   "id": "eceb4a67-bd16-4cb8-ad08-a967ad8e21bd",
   "metadata": {},
   "source": [
    "First, well use NV-Ingest's pdfium model ensemble to extract tables, we'll use the included embedding NIM to generate embeddings for those extracted tables, and then we'll store those embeddings in the Milvus VDB. We'll do this by creating a batch NV-Ingest job and adding tasks for table extraction, embedding, and VDB upload. "
   ]
  },
  {
   "cell_type": "code",
   "execution_count": null,
   "id": "6a98fa6f-0ad4-43cb-91a2-113a823bc383",
   "metadata": {},
   "outputs": [],
   "source": [
    "from nv_ingest_client.client import NvIngestClient\n",
    "from nv_ingest_client.primitives import BatchJobSpec\n",
    "from nv_ingest_client.primitives.tasks import ExtractTask\n",
    "from nv_ingest_client.primitives.tasks import EmbedTask\n",
    "from nv_ingest_client.primitives.tasks import VdbUploadTask\n",
    "\n",
    "batch_job_spec = BatchJobSpec(\n",
    "    [\n",
    "        \"../data/bo767/*.pdf\",\n",
    "    ]\n",
    ")\n",
    "\n",
    "extract_task = ExtractTask(\n",
    "    document_type=\"pdf\",\n",
    "    extract_text=False,\n",
    "    extract_images=False,\n",
    "    extract_tables=True,\n",
    "    extract_charts=False,\n",
    ")\n",
    "\n",
    "embed_task = EmbedTask(\n",
    "    text=False,\n",
    "    tables=True,\n",
    ")\n",
    "\n",
    "vdb_upload_task = VdbUploadTask()\n",
    "\n",
    "batch_job_spec.add_task(extract_task)\n",
    "batch_job_spec.add_task(embed_task)\n",
    "batch_job_spec.add_task(vdb_upload_task)\n",
    "\n",
    "client = NvIngestClient(\n",
    "    message_client_hostname=\"localhost\",\n",
    "    message_client_port=7670,\n",
    ")\n",
    "job_ids = client.add_job(batch_job_spec)\n",
    "\n",
    "client.submit_job(job_ids, \"morpheus_task_queue\", batch_size=10)\n",
    "result = client.fetch_job_result(job_ids, timeout=60, verbose=True)"
   ]
  },
  {
   "cell_type": "markdown",
   "id": "a408fc49-218a-477a-bcb1-c2f4651a0631",
   "metadata": {},
   "source": [
    "Now, our extracted tables and their corresponding embeddings are uploaded and indexed in the Milvus VDB"
   ]
  },
  {
   "cell_type": "code",
   "execution_count": 11,
   "id": "b6062dd8-8748-4307-9f57-1eee075f6222",
   "metadata": {},
   "outputs": [
    {
     "data": {
      "text/plain": [
       "{'row_count': 27198}"
      ]
     },
     "execution_count": 11,
     "metadata": {},
     "output_type": "execute_result"
    }
   ],
   "source": [
    "milvus_client.get_collection_stats(collection_name='nv_ingest_collection')"
   ]
  },
  {
   "cell_type": "markdown",
   "id": "5a367727-cf33-4242-af2a-1817e9cfdbc1",
   "metadata": {},
   "source": [
    "Next, we'll read in our set of queries and expected retrievals"
   ]
  },
  {
   "cell_type": "code",
   "execution_count": 2,
   "id": "4d756eac-1e8b-42df-bb2d-3578eb58fdf1",
   "metadata": {},
   "outputs": [
    {
     "data": {
      "text/html": [
       "<div>\n",
       "<style scoped>\n",
       "    .dataframe tbody tr th:only-of-type {\n",
       "        vertical-align: middle;\n",
       "    }\n",
       "\n",
       "    .dataframe tbody tr th {\n",
       "        vertical-align: top;\n",
       "    }\n",
       "\n",
       "    .dataframe thead th {\n",
       "        text-align: right;\n",
       "    }\n",
       "</style>\n",
       "<table border=\"1\" class=\"dataframe\">\n",
       "  <thead>\n",
       "    <tr style=\"text-align: right;\">\n",
       "      <th></th>\n",
       "      <th>query</th>\n",
       "      <th>pdf</th>\n",
       "      <th>page</th>\n",
       "      <th>table</th>\n",
       "      <th>pdf_page</th>\n",
       "    </tr>\n",
       "  </thead>\n",
       "  <tbody>\n",
       "    <tr>\n",
       "      <th>0</th>\n",
       "      <td>How much did Pendleton County spend out of the...</td>\n",
       "      <td>1003421</td>\n",
       "      <td>2</td>\n",
       "      <td>1003421_2_0</td>\n",
       "      <td>1003421_2</td>\n",
       "    </tr>\n",
       "    <tr>\n",
       "      <th>1</th>\n",
       "      <td>How many units are occupied by single families...</td>\n",
       "      <td>1008059</td>\n",
       "      <td>6</td>\n",
       "      <td>1008059_6_1</td>\n",
       "      <td>1008059_6</td>\n",
       "    </tr>\n",
       "    <tr>\n",
       "      <th>2</th>\n",
       "      <td>In the Klamath county, what is the total valua...</td>\n",
       "      <td>1008059</td>\n",
       "      <td>6</td>\n",
       "      <td>1008059_6_1</td>\n",
       "      <td>1008059_6</td>\n",
       "    </tr>\n",
       "    <tr>\n",
       "      <th>3</th>\n",
       "      <td>How much did Nalco pay GRIDCO for electricity ...</td>\n",
       "      <td>1011810</td>\n",
       "      <td>21</td>\n",
       "      <td>1011810_21_0</td>\n",
       "      <td>1011810_21</td>\n",
       "    </tr>\n",
       "    <tr>\n",
       "      <th>4</th>\n",
       "      <td>How much coal is used at Alumina refinery of N...</td>\n",
       "      <td>1011810</td>\n",
       "      <td>21</td>\n",
       "      <td>1011810_21_2</td>\n",
       "      <td>1011810_21</td>\n",
       "    </tr>\n",
       "    <tr>\n",
       "      <th>...</th>\n",
       "      <td>...</td>\n",
       "      <td>...</td>\n",
       "      <td>...</td>\n",
       "      <td>...</td>\n",
       "      <td>...</td>\n",
       "    </tr>\n",
       "    <tr>\n",
       "      <th>230</th>\n",
       "      <td>How much is the rental income from water plant...</td>\n",
       "      <td>2407280</td>\n",
       "      <td>30</td>\n",
       "      <td>2407280_30_0</td>\n",
       "      <td>2407280_30</td>\n",
       "    </tr>\n",
       "    <tr>\n",
       "      <th>231</th>\n",
       "      <td>In 2020 how much were the supplemental taxes f...</td>\n",
       "      <td>2415001</td>\n",
       "      <td>65</td>\n",
       "      <td>not detected</td>\n",
       "      <td>2415001_65</td>\n",
       "    </tr>\n",
       "    <tr>\n",
       "      <th>232</th>\n",
       "      <td>As of 2020, what is the total of collections a...</td>\n",
       "      <td>2415001</td>\n",
       "      <td>65</td>\n",
       "      <td>not detected</td>\n",
       "      <td>2415001_65</td>\n",
       "    </tr>\n",
       "    <tr>\n",
       "      <th>233</th>\n",
       "      <td>What was the net gain from the operations of t...</td>\n",
       "      <td>2416020</td>\n",
       "      <td>84</td>\n",
       "      <td>2416020_84_0</td>\n",
       "      <td>2416020_84</td>\n",
       "    </tr>\n",
       "    <tr>\n",
       "      <th>234</th>\n",
       "      <td>What was the highest operating expense in Nove...</td>\n",
       "      <td>2416020</td>\n",
       "      <td>84</td>\n",
       "      <td>2416020_84_0</td>\n",
       "      <td>2416020_84</td>\n",
       "    </tr>\n",
       "  </tbody>\n",
       "</table>\n",
       "<p>235 rows × 5 columns</p>\n",
       "</div>"
      ],
      "text/plain": [
       "                                                 query      pdf  page  \\\n",
       "0    How much did Pendleton County spend out of the...  1003421     2   \n",
       "1    How many units are occupied by single families...  1008059     6   \n",
       "2    In the Klamath county, what is the total valua...  1008059     6   \n",
       "3    How much did Nalco pay GRIDCO for electricity ...  1011810    21   \n",
       "4    How much coal is used at Alumina refinery of N...  1011810    21   \n",
       "..                                                 ...      ...   ...   \n",
       "230  How much is the rental income from water plant...  2407280    30   \n",
       "231  In 2020 how much were the supplemental taxes f...  2415001    65   \n",
       "232  As of 2020, what is the total of collections a...  2415001    65   \n",
       "233  What was the net gain from the operations of t...  2416020    84   \n",
       "234  What was the highest operating expense in Nove...  2416020    84   \n",
       "\n",
       "            table    pdf_page  \n",
       "0     1003421_2_0   1003421_2  \n",
       "1     1008059_6_1   1008059_6  \n",
       "2     1008059_6_1   1008059_6  \n",
       "3    1011810_21_0  1011810_21  \n",
       "4    1011810_21_2  1011810_21  \n",
       "..            ...         ...  \n",
       "230  2407280_30_0  2407280_30  \n",
       "231  not detected  2415001_65  \n",
       "232  not detected  2415001_65  \n",
       "233  2416020_84_0  2416020_84  \n",
       "234  2416020_84_0  2416020_84  \n",
       "\n",
       "[235 rows x 5 columns]"
      ]
     },
     "execution_count": 2,
     "metadata": {},
     "output_type": "execute_result"
    }
   ],
   "source": [
    "df_query = pd.read_csv('../data/table_queries_cleaned_235.csv')[['query','pdf','page','table']]\n",
    "df_query['pdf_page'] = df_query.apply(lambda x: f\"{x.pdf}_{x.page}\", axis=1)\n",
    "df_query"
   ]
  },
  {
   "cell_type": "markdown",
   "id": "043021f2-bd7a-4d2c-9d71-24ed99f89f32",
   "metadata": {},
   "source": [
    "Then, we'll connect LlamaIndex to the Milvus VDB and create a retriever with the NVIDIA `nv-embedqa-e5-v5` model used for the embedding function. When we query the retriever, LLamaIndex will use this model to embed the query and then use that embedding to retrieve entries from our Milvus VDB. \n",
    "\n",
    "**Note:** You *must* use this specific embedding model or the query embeddings won't match up with the embeddings in Milvus. "
   ]
  },
  {
   "cell_type": "code",
   "execution_count": 13,
   "id": "8faf9bc5-af12-42ad-a0f8-077219363c2c",
   "metadata": {},
   "outputs": [],
   "source": [
    "embed_model = NVIDIAEmbedding(base_url=\"http://localhost:8012/v1\", model=\"nvidia/nv-embedqa-e5-v5\")\n",
    "\n",
    "vector_store = MilvusVectorStore(\n",
    "    uri=\"http://localhost:19530\",\n",
    "    collection_name=\"nv_ingest_collection\",\n",
    "    doc_id_field=\"pk\",\n",
    "    embedding_field=\"vector\",\n",
    "    text_key=\"text\",\n",
    "    dim=1024,\n",
    "    output_fields=[\"source\", \"content_metadata\"],\n",
    "    overwrite=False\n",
    ")\n",
    "index = VectorStoreIndex.from_vector_store(vector_store=vector_store, embed_model=embed_model)\n",
    "retriever = index.as_retriever(similarity_top_k=10)"
   ]
  },
  {
   "cell_type": "markdown",
   "id": "41cb4243-93c0-47dc-9e90-4fcb666dedfd",
   "metadata": {},
   "source": [
    "Finally, we'll use the retriever to calculate recall scores by checking if a table from the expected pdf and page is retrieved in the top `k` results for `k = 1, 3, 5, 10`"
   ]
  },
  {
   "cell_type": "code",
   "execution_count": 4,
   "id": "ceecfad4-8ec2-42d1-bf51-5566b90b0a0a",
   "metadata": {},
   "outputs": [
    {
     "name": "stderr",
     "output_type": "stream",
     "text": [
      "100%|███████████████████████████████████████████████████████████████████████████████████████████████████████████████████████████████████████████████████████████| 235/235 [01:49<00:00,  2.15it/s]"
     ]
    },
    {
     "name": "stdout",
     "output_type": "stream",
     "text": [
      "  - Recall @1: 0.447\n",
      "  - Recall @3: 0.651\n",
      "  - Recall @5: 0.736\n",
      "  - Recall @10: 0.796\n"
     ]
    },
    {
     "name": "stderr",
     "output_type": "stream",
     "text": [
      "\n"
     ]
    }
   ],
   "source": [
    "hits = defaultdict(list)\n",
    "\n",
    "for i in tqdm(range(len(df_query))):\n",
    "    query = df_query['query'][i]\n",
    "    expected_pdf_page = df_query['pdf_page'][i]\n",
    "    retrieved_answers = retriever.retrieve(query)\n",
    "\n",
    "    retrieved_pdfs = [os.path.basename(json.loads(node.json())[\"node\"][\"metadata\"][\"source\"][\"source_id\"]).split('.')[0] for node in retrieved_answers]\n",
    "    retrieved_pages = [str(json.loads(node.json())[\"node\"][\"metadata\"][\"content_metadata\"][\"page_number\"]) for node in retrieved_answers]\n",
    "    retrieved_pdf_pages = [f\"{pdf}_{page}\" for pdf, page in zip(retrieved_pdfs, retrieved_pages)]\n",
    "\n",
    "    for k in [1, 3, 5, 10]:\n",
    "        hits[k].append(expected_pdf_page in retrieved_pdf_pages[:k])\n",
    "\n",
    "for k in hits:\n",
    "    print(f'  - Recall @{k}: {np.mean(hits[k]) :.3f}')"
   ]
  },
  {
   "cell_type": "markdown",
   "id": "1451a0c5-c5cf-43ca-a6a6-20832210387a",
   "metadata": {},
   "source": [
    "## Calculating chart recall"
   ]
  },
  {
   "cell_type": "markdown",
   "id": "9a3464b4-f157-4dcb-b0aa-2f524fd80f68",
   "metadata": {},
   "source": [
    "Calculating the chart recall is almost exactly the same, but we'll need to empty our Milvus VDB and load the extracted charts and corresponding embeddings in.\n",
    "\n",
    "**Note:** Once again our Milvus VDB will need to be empty meaning the following code should return a row count of `0`."
   ]
  },
  {
   "cell_type": "code",
   "execution_count": 10,
   "id": "3d3c04be-6cdc-43b1-bfac-b69a2901c508",
   "metadata": {},
   "outputs": [
    {
     "data": {
      "text/plain": [
       "{'row_count': 0}"
      ]
     },
     "execution_count": 10,
     "metadata": {},
     "output_type": "execute_result"
    }
   ],
   "source": [
    "milvus_client.get_collection_stats(collection_name='nv_ingest_collection')"
   ]
  },
  {
   "cell_type": "markdown",
   "id": "37cdefec-e63f-484d-843b-7defc2274d5d",
   "metadata": {},
   "source": [
    "Then, we'll create another NV-Ingest job with the extract, embed, and VDB upload tasks, but this time we'll only extract charts instead of tables"
   ]
  },
  {
   "cell_type": "code",
   "execution_count": null,
   "id": "d1e82f9a-0237-4f88-8be5-88a571983a6e",
   "metadata": {},
   "outputs": [],
   "source": [
    "batch_job_spec = BatchJobSpec(\n",
    "    [\n",
    "        \"../data/bo767/*.pdf\",\n",
    "    ]\n",
    ")\n",
    "\n",
    "extract_task = ExtractTask(\n",
    "    document_type=\"pdf\",\n",
    "    extract_text=False,\n",
    "    extract_images=False,\n",
    "    extract_tables=False,\n",
    "    extract_charts=True,\n",
    ")\n",
    "\n",
    "embed_task = EmbedTask(\n",
    "    text=False,\n",
    "    tables=True,\n",
    ")\n",
    "\n",
    "vdb_upload_task = VdbUploadTask()\n",
    "\n",
    "batch_job_spec.add_task(extract_task)\n",
    "batch_job_spec.add_task(embed_task)\n",
    "batch_job_spec.add_task(vdb_upload_task)\n",
    "\n",
    "client = NvIngestClient(\n",
    "    message_client_hostname=\"localhost\",\n",
    "    message_client_port=7670,\n",
    ")\n",
    "job_ids = client.add_job(batch_job_spec)\n",
    "\n",
    "client.submit_job(job_ids, \"morpheus_task_queue\", batch_size=10)\n",
    "result = client.fetch_job_result(job_ids, timeout=60, verbose=True)"
   ]
  },
  {
   "cell_type": "markdown",
   "id": "89f629d4-b93b-4fc6-b077-a70a9bd87991",
   "metadata": {},
   "source": [
    "Now, our extracted charts and their corresponding embeddings are uploaded and indexed in the Milvus VDB"
   ]
  },
  {
   "cell_type": "code",
   "execution_count": 12,
   "id": "45b5fffd-a292-4c2c-935f-6a720de9547f",
   "metadata": {},
   "outputs": [
    {
     "data": {
      "text/plain": [
       "{'row_count': 5665}"
      ]
     },
     "execution_count": 12,
     "metadata": {},
     "output_type": "execute_result"
    }
   ],
   "source": [
    "milvus_client.get_collection_stats(collection_name='nv_ingest_collection')"
   ]
  },
  {
   "cell_type": "markdown",
   "id": "e9880e78-b8f3-457b-9521-e7a37f07a1e2",
   "metadata": {},
   "source": [
    "Then, we'll read in our set of queries and expected retrievals"
   ]
  },
  {
   "cell_type": "code",
   "execution_count": 9,
   "id": "7a396368-ef07-4c5a-afab-ca01e6515ab3",
   "metadata": {},
   "outputs": [
    {
     "data": {
      "text/html": [
       "<div>\n",
       "<style scoped>\n",
       "    .dataframe tbody tr th:only-of-type {\n",
       "        vertical-align: middle;\n",
       "    }\n",
       "\n",
       "    .dataframe tbody tr th {\n",
       "        vertical-align: top;\n",
       "    }\n",
       "\n",
       "    .dataframe thead th {\n",
       "        text-align: right;\n",
       "    }\n",
       "</style>\n",
       "<table border=\"1\" class=\"dataframe\">\n",
       "  <thead>\n",
       "    <tr style=\"text-align: right;\">\n",
       "      <th></th>\n",
       "      <th>query</th>\n",
       "      <th>pdf</th>\n",
       "      <th>page</th>\n",
       "      <th>pdf_page</th>\n",
       "    </tr>\n",
       "  </thead>\n",
       "  <tbody>\n",
       "    <tr>\n",
       "      <th>0</th>\n",
       "      <td>What are the top three consumer complaint cate...</td>\n",
       "      <td>1009210</td>\n",
       "      <td>11</td>\n",
       "      <td>1009210_11</td>\n",
       "    </tr>\n",
       "    <tr>\n",
       "      <th>1</th>\n",
       "      <td>Which 3 categories did extremely well in terms...</td>\n",
       "      <td>1009210</td>\n",
       "      <td>11</td>\n",
       "      <td>1009210_11</td>\n",
       "    </tr>\n",
       "    <tr>\n",
       "      <th>2</th>\n",
       "      <td>What's the longest recent US recession?</td>\n",
       "      <td>1010876</td>\n",
       "      <td>0</td>\n",
       "      <td>1010876_0</td>\n",
       "    </tr>\n",
       "    <tr>\n",
       "      <th>3</th>\n",
       "      <td>Is the 12-Month default rate usually higher th...</td>\n",
       "      <td>1010876</td>\n",
       "      <td>0</td>\n",
       "      <td>1010876_0</td>\n",
       "    </tr>\n",
       "    <tr>\n",
       "      <th>4</th>\n",
       "      <td>Which allegation is submitted highest to RTAs ...</td>\n",
       "      <td>1014669</td>\n",
       "      <td>0</td>\n",
       "      <td>1014669_0</td>\n",
       "    </tr>\n",
       "    <tr>\n",
       "      <th>...</th>\n",
       "      <td>...</td>\n",
       "      <td>...</td>\n",
       "      <td>...</td>\n",
       "      <td>...</td>\n",
       "    </tr>\n",
       "    <tr>\n",
       "      <th>263</th>\n",
       "      <td>After the 2008 recession, what percentage of p...</td>\n",
       "      <td>2384395</td>\n",
       "      <td>6</td>\n",
       "      <td>2384395_6</td>\n",
       "    </tr>\n",
       "    <tr>\n",
       "      <th>264</th>\n",
       "      <td>what were the top 3 major religious groups in ...</td>\n",
       "      <td>2392676</td>\n",
       "      <td>5</td>\n",
       "      <td>2392676_5</td>\n",
       "    </tr>\n",
       "    <tr>\n",
       "      <th>265</th>\n",
       "      <td>What percentage of people in the world identif...</td>\n",
       "      <td>2392676</td>\n",
       "      <td>5</td>\n",
       "      <td>2392676_5</td>\n",
       "    </tr>\n",
       "    <tr>\n",
       "      <th>266</th>\n",
       "      <td>Between 2003 and 2019, has the household mortg...</td>\n",
       "      <td>2410699</td>\n",
       "      <td>189</td>\n",
       "      <td>2410699_189</td>\n",
       "    </tr>\n",
       "    <tr>\n",
       "      <th>267</th>\n",
       "      <td>When did the total household mortgage debt in ...</td>\n",
       "      <td>2410699</td>\n",
       "      <td>189</td>\n",
       "      <td>2410699_189</td>\n",
       "    </tr>\n",
       "  </tbody>\n",
       "</table>\n",
       "<p>268 rows × 4 columns</p>\n",
       "</div>"
      ],
      "text/plain": [
       "                                                 query      pdf  page  \\\n",
       "0    What are the top three consumer complaint cate...  1009210    11   \n",
       "1    Which 3 categories did extremely well in terms...  1009210    11   \n",
       "2              What's the longest recent US recession?  1010876     0   \n",
       "3    Is the 12-Month default rate usually higher th...  1010876     0   \n",
       "4    Which allegation is submitted highest to RTAs ...  1014669     0   \n",
       "..                                                 ...      ...   ...   \n",
       "263  After the 2008 recession, what percentage of p...  2384395     6   \n",
       "264  what were the top 3 major religious groups in ...  2392676     5   \n",
       "265  What percentage of people in the world identif...  2392676     5   \n",
       "266  Between 2003 and 2019, has the household mortg...  2410699   189   \n",
       "267  When did the total household mortgage debt in ...  2410699   189   \n",
       "\n",
       "        pdf_page  \n",
       "0     1009210_11  \n",
       "1     1009210_11  \n",
       "2      1010876_0  \n",
       "3      1010876_0  \n",
       "4      1014669_0  \n",
       "..           ...  \n",
       "263    2384395_6  \n",
       "264    2392676_5  \n",
       "265    2392676_5  \n",
       "266  2410699_189  \n",
       "267  2410699_189  \n",
       "\n",
       "[268 rows x 4 columns]"
      ]
     },
     "execution_count": 9,
     "metadata": {},
     "output_type": "execute_result"
    }
   ],
   "source": [
    "df_query = pd.read_csv('../data/charts_with_page_num_fixed.csv')[['query','pdf','page']]\n",
    "df_query['page'] = df_query['page']-1 # page -1 because the page number starts with 1 in that csv\n",
    "df_query['pdf_page'] = df_query.apply(lambda x: f\"{x.pdf}_{x.page}\", axis=1) \n",
    "df_query"
   ]
  },
  {
   "cell_type": "markdown",
   "id": "55abc6cb-6e1d-4444-8594-e58be5c5c974",
   "metadata": {},
   "source": [
    "And finally we can use our LlamaIndex retriever from earlier to calculate recall scores in the same manner"
   ]
  },
  {
   "cell_type": "code",
   "execution_count": 18,
   "id": "8aa11dcd-d802-4ad6-a628-dcdeba15d8f6",
   "metadata": {},
   "outputs": [
    {
     "name": "stderr",
     "output_type": "stream",
     "text": [
      "100%|██████████████████████████████████████████████████████████████████████████████████████████████████████████████████████████████████████████████████████████████████████████████████████████████████████████████████████████████████████████████████████████████████████████████████████████████████████████████████████████████████████████████████████████████████████████████████████████████████| 268/268 [01:21<00:00,  3.31it/s]"
     ]
    },
    {
     "name": "stdout",
     "output_type": "stream",
     "text": [
      "  - Recall @1: 0.593\n",
      "  - Recall @3: 0.720\n",
      "  - Recall @5: 0.746\n",
      "  - Recall @10: 0.802\n"
     ]
    },
    {
     "name": "stderr",
     "output_type": "stream",
     "text": [
      "\n"
     ]
    }
   ],
   "source": [
    "hits = defaultdict(list)\n",
    "\n",
    "for i in tqdm(range(len(df_query))):\n",
    "    query = df_query['query'][i]\n",
    "    expected_pdf_page = df_query['pdf_page'][i]\n",
    "    retrieved_answers = retriever.retrieve(query)\n",
    "    retrieved_pdfs = [os.path.basename(json.loads(node.json())[\"node\"][\"metadata\"][\"source\"][\"source_id\"]).split('.')[0] for node in retrieved_answers]\n",
    "    retrieved_pages = [str(json.loads(node.json())[\"node\"][\"metadata\"][\"content_metadata\"][\"page_number\"]) for node in retrieved_answers]\n",
    "    retrieved_pdf_pages = [f\"{pdf}_{page}\" for pdf, page in zip(retrieved_pdfs, retrieved_pages)]\n",
    "\n",
    "\n",
    "    for k in [1, 3, 5, 10]:\n",
    "        hits[k].append(expected_pdf_page in retrieved_pdf_pages[:k])\n",
    "\n",
    "for k in hits:\n",
    "    print(f'  - Recall @{k}: {np.mean(hits[k]) :.3f}')"
   ]
  },
  {
   "cell_type": "markdown",
   "id": "dba3c42f-acc8-4d1e-903a-740991a0c8b0",
   "metadata": {},
   "source": [
    "## Calculating text recall"
   ]
  },
  {
   "cell_type": "markdown",
   "id": "2f2226ea-a111-43bb-ae4f-55049cb24f7a",
   "metadata": {},
   "source": [
    "To calculate text recall, we'll use three popular question answering (QA) datasets. We'll use NV-Ingest to extract the text and once again embed and upload to Milvus."
   ]
  },
  {
   "cell_type": "markdown",
   "id": "7adb646c-4331-4a42-b323-cdfee33bbf82",
   "metadata": {},
   "source": [
    "The corpus for each of the QA datasets comes in the form of jsonl file with text snippets and their corresponding IDs used to identify if the correct text snippet was returned. In order to ingest these text snippets with NV-Ingest we'll need to split them into individual textfiles with the ID used as the file name"
   ]
  },
  {
   "cell_type": "code",
   "execution_count": null,
   "id": "3823bead-4949-4bb4-8d0d-9ea3db227f03",
   "metadata": {},
   "outputs": [],
   "source": [
    "from pathlib import Path\n",
    "\n",
    "for dataset in [\"fiqa\", \"nq_sample35\", \"hotpotqa_sample35\"]:\n",
    "    Path(f\"../data/{dataset}/textfiles\").mkdir(parents=False, exist_ok=True)\n",
    "    corpus_df = pd.read_json(f\"../data/{dataset}/corpus.jsonl\", lines=True)\n",
    "\n",
    "    for i in tqdm(range(len(corpus_df))):\n",
    "        text_id = str(corpus_df[\"_id\"][i])\n",
    "        text = corpus_df[\"text\"][i]\n",
    "    \n",
    "        with open(f\"../data/{dataset}/textfiles/{text_id}.txt\", \"w\") as f:\n",
    "            f.write(text)"
   ]
  },
  {
   "cell_type": "markdown",
   "id": "deb5fb93-f1c1-4d5b-be3b-ed52f5cbbcd8",
   "metadata": {},
   "source": [
    "If you ran the table and chart recall cells you should already have a retriever connected to the Milvus VDB, but if not we can create that here"
   ]
  },
  {
   "cell_type": "code",
   "execution_count": null,
   "id": "8230a90c-4b4d-4c18-a1a4-e1f14787beea",
   "metadata": {},
   "outputs": [],
   "source": [
    "embed_model = NVIDIAEmbedding(base_url=\"http://localhost:8012/v1\", model=\"nvidia/nv-embedqa-e5-v5\")\n",
    "\n",
    "vector_store = MilvusVectorStore(\n",
    "    uri=\"http://localhost:19530\",\n",
    "    collection_name=\"nv_ingest_collection\",\n",
    "    doc_id_field=\"pk\",\n",
    "    embedding_field=\"vector\",\n",
    "    text_key=\"text\",\n",
    "    dim=1024,\n",
    "    output_fields=[\"source\", \"content_metadata\"],\n",
    "    overwrite=False\n",
    ")\n",
    "index = VectorStoreIndex.from_vector_store(vector_store=vector_store, embed_model=embed_model)\n",
    "retriever = index.as_retriever(similarity_top_k=10)"
   ]
  },
  {
   "cell_type": "markdown",
   "id": "b3afbe6c-d2a8-4ace-9814-89803ebad242",
   "metadata": {},
   "source": [
    "### Fiqa"
   ]
  },
  {
   "cell_type": "markdown",
   "id": "5d3af149-facd-4950-bd02-e557acc03449",
   "metadata": {},
   "source": [
    "First, we'll create an NV-Ingest job that extracts the text from our textfiles, embeds them, and uploads them to our Milvus VDB"
   ]
  },
  {
   "cell_type": "code",
   "execution_count": 30,
   "id": "52fe8c0b-859a-4b6a-941c-d38f4e992f49",
   "metadata": {},
   "outputs": [],
   "source": [
    "batch_job_spec = BatchJobSpec(\n",
    "    [\n",
    "        \"../data/fiqa/textfiles/*.txt\",\n",
    "    ]\n",
    ")\n",
    "\n",
    "extract_task = ExtractTask(\n",
    "    document_type=\"text\",\n",
    "    extract_text=True,\n",
    "    extract_images=False,\n",
    "    extract_tables=False,\n",
    "    extract_charts=False,\n",
    ")\n",
    "\n",
    "embed_task = EmbedTask(\n",
    "    text=True,\n",
    "    tables=False,\n",
    ")\n",
    "\n",
    "vdb_upload_task = VdbUploadTask()\n",
    "\n",
    "batch_job_spec.add_task(extract_task)\n",
    "batch_job_spec.add_task(embed_task)\n",
    "batch_job_spec.add_task(vdb_upload_task)\n",
    "\n",
    "client = NvIngestClient(\n",
    "    message_client_hostname=\"localhost\",\n",
    "    message_client_port=7670,\n",
    ")\n",
    "job_ids = client.add_job(batch_job_spec)\n",
    "\n",
    "client.submit_job(job_ids, \"morpheus_task_queue\", batch_size=10)\n",
    "result = client.fetch_job_result(job_ids, timeout=60, verbose=True)"
   ]
  },
  {
   "cell_type": "markdown",
   "id": "15a7ce39-9e50-4fdc-817b-74f3d805de86",
   "metadata": {},
   "source": [
    "Next, we'll load in our query dataset, which contains the questions and their corresponding IDs"
   ]
  },
  {
   "cell_type": "code",
   "execution_count": 39,
   "id": "9d5ea79e-cf9f-4360-b245-6b6314557568",
   "metadata": {},
   "outputs": [
    {
     "data": {
      "text/html": [
       "<div>\n",
       "<style scoped>\n",
       "    .dataframe tbody tr th:only-of-type {\n",
       "        vertical-align: middle;\n",
       "    }\n",
       "\n",
       "    .dataframe tbody tr th {\n",
       "        vertical-align: top;\n",
       "    }\n",
       "\n",
       "    .dataframe thead th {\n",
       "        text-align: right;\n",
       "    }\n",
       "</style>\n",
       "<table border=\"1\" class=\"dataframe\">\n",
       "  <thead>\n",
       "    <tr style=\"text-align: right;\">\n",
       "      <th></th>\n",
       "      <th>_id</th>\n",
       "      <th>text</th>\n",
       "      <th>metadata</th>\n",
       "    </tr>\n",
       "  </thead>\n",
       "  <tbody>\n",
       "    <tr>\n",
       "      <th>0</th>\n",
       "      <td>0</td>\n",
       "      <td>What is considered a business expense on a bus...</td>\n",
       "      <td>{}</td>\n",
       "    </tr>\n",
       "    <tr>\n",
       "      <th>1</th>\n",
       "      <td>4</td>\n",
       "      <td>Business Expense - Car Insurance Deductible Fo...</td>\n",
       "      <td>{}</td>\n",
       "    </tr>\n",
       "    <tr>\n",
       "      <th>2</th>\n",
       "      <td>5</td>\n",
       "      <td>Starting a new online business</td>\n",
       "      <td>{}</td>\n",
       "    </tr>\n",
       "    <tr>\n",
       "      <th>3</th>\n",
       "      <td>6</td>\n",
       "      <td>“Business day” and “due date” for bills</td>\n",
       "      <td>{}</td>\n",
       "    </tr>\n",
       "    <tr>\n",
       "      <th>4</th>\n",
       "      <td>7</td>\n",
       "      <td>New business owner - How do taxes work for the...</td>\n",
       "      <td>{}</td>\n",
       "    </tr>\n",
       "    <tr>\n",
       "      <th>...</th>\n",
       "      <td>...</td>\n",
       "      <td>...</td>\n",
       "      <td>...</td>\n",
       "    </tr>\n",
       "    <tr>\n",
       "      <th>6643</th>\n",
       "      <td>4102</td>\n",
       "      <td>How can I determine if my rate of return is “g...</td>\n",
       "      <td>{}</td>\n",
       "    </tr>\n",
       "    <tr>\n",
       "      <th>6644</th>\n",
       "      <td>3566</td>\n",
       "      <td>Where can I buy stocks if I only want to inves...</td>\n",
       "      <td>{}</td>\n",
       "    </tr>\n",
       "    <tr>\n",
       "      <th>6645</th>\n",
       "      <td>94</td>\n",
       "      <td>Using credit card points to pay for tax deduct...</td>\n",
       "      <td>{}</td>\n",
       "    </tr>\n",
       "    <tr>\n",
       "      <th>6646</th>\n",
       "      <td>2551</td>\n",
       "      <td>How to find cheaper alternatives to a traditio...</td>\n",
       "      <td>{}</td>\n",
       "    </tr>\n",
       "    <tr>\n",
       "      <th>6647</th>\n",
       "      <td>2399</td>\n",
       "      <td>Where do web sites get foreign exchange curren...</td>\n",
       "      <td>{}</td>\n",
       "    </tr>\n",
       "  </tbody>\n",
       "</table>\n",
       "<p>6648 rows × 3 columns</p>\n",
       "</div>"
      ],
      "text/plain": [
       "       _id                                               text metadata\n",
       "0        0  What is considered a business expense on a bus...       {}\n",
       "1        4  Business Expense - Car Insurance Deductible Fo...       {}\n",
       "2        5                     Starting a new online business       {}\n",
       "3        6            “Business day” and “due date” for bills       {}\n",
       "4        7  New business owner - How do taxes work for the...       {}\n",
       "...    ...                                                ...      ...\n",
       "6643  4102  How can I determine if my rate of return is “g...       {}\n",
       "6644  3566  Where can I buy stocks if I only want to inves...       {}\n",
       "6645    94  Using credit card points to pay for tax deduct...       {}\n",
       "6646  2551  How to find cheaper alternatives to a traditio...       {}\n",
       "6647  2399  Where do web sites get foreign exchange curren...       {}\n",
       "\n",
       "[6648 rows x 3 columns]"
      ]
     },
     "execution_count": 39,
     "metadata": {},
     "output_type": "execute_result"
    }
   ],
   "source": [
    "df_query = pd.read_json(\"../data/fiqa/queries.jsonl\", lines=True)\n",
    "df_query"
   ]
  },
  {
   "cell_type": "markdown",
   "id": "910957b2-6c1c-4e43-a98c-7716416e1da1",
   "metadata": {},
   "source": [
    "And then we'll load in our evaluation set which contains the mappings of queries to corpus text snippets"
   ]
  },
  {
   "cell_type": "code",
   "execution_count": 27,
   "id": "b84487c0-d5b5-424a-9729-a93a763db7bd",
   "metadata": {},
   "outputs": [
    {
     "data": {
      "text/html": [
       "<div>\n",
       "<style scoped>\n",
       "    .dataframe tbody tr th:only-of-type {\n",
       "        vertical-align: middle;\n",
       "    }\n",
       "\n",
       "    .dataframe tbody tr th {\n",
       "        vertical-align: top;\n",
       "    }\n",
       "\n",
       "    .dataframe thead th {\n",
       "        text-align: right;\n",
       "    }\n",
       "</style>\n",
       "<table border=\"1\" class=\"dataframe\">\n",
       "  <thead>\n",
       "    <tr style=\"text-align: right;\">\n",
       "      <th></th>\n",
       "      <th>query-id</th>\n",
       "      <th>corpus-id</th>\n",
       "      <th>score</th>\n",
       "    </tr>\n",
       "  </thead>\n",
       "  <tbody>\n",
       "    <tr>\n",
       "      <th>0</th>\n",
       "      <td>8</td>\n",
       "      <td>566392</td>\n",
       "      <td>1</td>\n",
       "    </tr>\n",
       "    <tr>\n",
       "      <th>1</th>\n",
       "      <td>8</td>\n",
       "      <td>65404</td>\n",
       "      <td>1</td>\n",
       "    </tr>\n",
       "    <tr>\n",
       "      <th>2</th>\n",
       "      <td>15</td>\n",
       "      <td>325273</td>\n",
       "      <td>1</td>\n",
       "    </tr>\n",
       "    <tr>\n",
       "      <th>3</th>\n",
       "      <td>18</td>\n",
       "      <td>88124</td>\n",
       "      <td>1</td>\n",
       "    </tr>\n",
       "    <tr>\n",
       "      <th>4</th>\n",
       "      <td>26</td>\n",
       "      <td>285255</td>\n",
       "      <td>1</td>\n",
       "    </tr>\n",
       "    <tr>\n",
       "      <th>...</th>\n",
       "      <td>...</td>\n",
       "      <td>...</td>\n",
       "      <td>...</td>\n",
       "    </tr>\n",
       "    <tr>\n",
       "      <th>1701</th>\n",
       "      <td>11039</td>\n",
       "      <td>330058</td>\n",
       "      <td>1</td>\n",
       "    </tr>\n",
       "    <tr>\n",
       "      <th>1702</th>\n",
       "      <td>11039</td>\n",
       "      <td>91183</td>\n",
       "      <td>1</td>\n",
       "    </tr>\n",
       "    <tr>\n",
       "      <th>1703</th>\n",
       "      <td>11054</td>\n",
       "      <td>155053</td>\n",
       "      <td>1</td>\n",
       "    </tr>\n",
       "    <tr>\n",
       "      <th>1704</th>\n",
       "      <td>11054</td>\n",
       "      <td>321015</td>\n",
       "      <td>1</td>\n",
       "    </tr>\n",
       "    <tr>\n",
       "      <th>1705</th>\n",
       "      <td>11088</td>\n",
       "      <td>437100</td>\n",
       "      <td>1</td>\n",
       "    </tr>\n",
       "  </tbody>\n",
       "</table>\n",
       "<p>1706 rows × 3 columns</p>\n",
       "</div>"
      ],
      "text/plain": [
       "      query-id  corpus-id  score\n",
       "0            8     566392      1\n",
       "1            8      65404      1\n",
       "2           15     325273      1\n",
       "3           18      88124      1\n",
       "4           26     285255      1\n",
       "...        ...        ...    ...\n",
       "1701     11039     330058      1\n",
       "1702     11039      91183      1\n",
       "1703     11054     155053      1\n",
       "1704     11054     321015      1\n",
       "1705     11088     437100      1\n",
       "\n",
       "[1706 rows x 3 columns]"
      ]
     },
     "execution_count": 27,
     "metadata": {},
     "output_type": "execute_result"
    }
   ],
   "source": [
    "df_test = pd.read_csv('../data/fiqa/qrels/test.tsv', sep='\\t')\n",
    "df_test"
   ]
  },
  {
   "cell_type": "markdown",
   "id": "52631f1b-e278-4e37-80ba-dcbfa6368f5e",
   "metadata": {},
   "source": [
    "Finally, we'll iterate through our evaluation set, check if the expected answer for each query is in the top 1, 3, 5, and 10 results, and then average those results to get our various recall scores"
   ]
  },
  {
   "cell_type": "code",
   "execution_count": 28,
   "id": "021df321-a4c6-4aca-b2bc-c74c2e2bdafb",
   "metadata": {},
   "outputs": [
    {
     "name": "stderr",
     "output_type": "stream",
     "text": [
      "100%|█████████████████████████████████████████████████████████████████████████████████████████████████████████████████████████████████████████████████████████| 1706/1706 [08:47<00:00,  3.24it/s]"
     ]
    },
    {
     "name": "stdout",
     "output_type": "stream",
     "text": [
      "  - Recall @1: 0.174\n",
      "  - Recall @3: 0.328\n",
      "  - Recall @5: 0.407\n",
      "  - Recall @10: 0.494\n"
     ]
    },
    {
     "name": "stderr",
     "output_type": "stream",
     "text": [
      "\n"
     ]
    }
   ],
   "source": [
    "hits = defaultdict(list)\n",
    "\n",
    "for i in tqdm(range(len(df_test))):\n",
    "    query_id = df_test['query-id'][i]\n",
    "    answer_id = str(df_test['corpus-id'][i])\n",
    "    query = df_query[df_query['_id'] == query_id]['text'].to_list()[0]\n",
    "\n",
    "    retrieved_answers = retriever.retrieve(query)\n",
    "    retrieved_ids = [os.path.basename(node.metadata[\"source\"][\"source_id\"]).split('.')[0] for node in retrieved_answers]\n",
    "\n",
    "    for k in [1, 3, 5, 10]:\n",
    "        hits[k].append(answer_id in retrieved_ids[:k])\n",
    "\n",
    "for k in hits:\n",
    "    print(f'  - Recall @{k}: {np.mean(hits[k]) :.3f}')"
   ]
  },
  {
   "cell_type": "markdown",
   "id": "d91d9fa0-1af1-41ac-993f-924d1d2710f9",
   "metadata": {},
   "source": [
    "For NQ_Sample35 and HotpotQA_Sample35, we'll repeat the exact same process as Fiqa, but with the different datasets "
   ]
  },
  {
   "cell_type": "markdown",
   "id": "63f19091-13c8-4edb-882d-80bfa344e814",
   "metadata": {},
   "source": [
    "### NQ_Sample35"
   ]
  },
  {
   "cell_type": "code",
   "execution_count": null,
   "id": "5cf4b7ea-7795-4998-836e-7ae9d06f9a46",
   "metadata": {},
   "outputs": [],
   "source": [
    "from nv_ingest_client.client import NvIngestClient\n",
    "from nv_ingest_client.primitives import BatchJobSpec\n",
    "from nv_ingest_client.primitives.tasks import ExtractTask\n",
    "from nv_ingest_client.primitives.tasks import EmbedTask\n",
    "from nv_ingest_client.primitives.tasks import VdbUploadTask\n",
    "\n",
    "batch_job_spec = BatchJobSpec(\n",
    "    [\n",
    "        \"../data/nq_sample35/textfiles/*.txt\",\n",
    "    ]\n",
    ")\n",
    "\n",
    "extract_task = ExtractTask(\n",
    "    document_type=\"text\",\n",
    "    extract_text=True,\n",
    "    extract_images=False,\n",
    "    extract_tables=False,\n",
    "    extract_charts=False,\n",
    ")\n",
    "\n",
    "embed_task = EmbedTask(\n",
    "    text=True,\n",
    "    tables=False,\n",
    ")\n",
    "\n",
    "vdb_upload_task = VdbUploadTask()\n",
    "\n",
    "batch_job_spec.add_task(extract_task)\n",
    "batch_job_spec.add_task(embed_task)\n",
    "batch_job_spec.add_task(vdb_upload_task)\n",
    "\n",
    "client = NvIngestClient(\n",
    "    message_client_hostname=\"localhost\",\n",
    "    message_client_port=7670,\n",
    ")\n",
    "job_ids = client.add_job(batch_job_spec)\n",
    "\n",
    "client.submit_job(job_ids, \"morpheus_task_queue\", batch_size=10)\n",
    "result = client.fetch_job_result(job_ids, timeout=60, verbose=True)"
   ]
  },
  {
   "cell_type": "code",
   "execution_count": 40,
   "id": "f993feee-0ccb-403c-9814-482ada6e5912",
   "metadata": {},
   "outputs": [
    {
     "data": {
      "text/html": [
       "<div>\n",
       "<style scoped>\n",
       "    .dataframe tbody tr th:only-of-type {\n",
       "        vertical-align: middle;\n",
       "    }\n",
       "\n",
       "    .dataframe tbody tr th {\n",
       "        vertical-align: top;\n",
       "    }\n",
       "\n",
       "    .dataframe thead th {\n",
       "        text-align: right;\n",
       "    }\n",
       "</style>\n",
       "<table border=\"1\" class=\"dataframe\">\n",
       "  <thead>\n",
       "    <tr style=\"text-align: right;\">\n",
       "      <th></th>\n",
       "      <th>_id</th>\n",
       "      <th>text</th>\n",
       "      <th>metadata</th>\n",
       "    </tr>\n",
       "  </thead>\n",
       "  <tbody>\n",
       "    <tr>\n",
       "      <th>0</th>\n",
       "      <td>test0</td>\n",
       "      <td>what is non controlling interest on balance sheet</td>\n",
       "      <td>{}</td>\n",
       "    </tr>\n",
       "    <tr>\n",
       "      <th>1</th>\n",
       "      <td>test1</td>\n",
       "      <td>how many episodes are in chicago fire season 4</td>\n",
       "      <td>{}</td>\n",
       "    </tr>\n",
       "    <tr>\n",
       "      <th>2</th>\n",
       "      <td>test2</td>\n",
       "      <td>who sings love will keep us alive by the eagles</td>\n",
       "      <td>{}</td>\n",
       "    </tr>\n",
       "    <tr>\n",
       "      <th>3</th>\n",
       "      <td>test3</td>\n",
       "      <td>who is the leader of the ontario pc party</td>\n",
       "      <td>{}</td>\n",
       "    </tr>\n",
       "    <tr>\n",
       "      <th>4</th>\n",
       "      <td>test4</td>\n",
       "      <td>nitty gritty dirt band fishin in the dark album</td>\n",
       "      <td>{}</td>\n",
       "    </tr>\n",
       "    <tr>\n",
       "      <th>...</th>\n",
       "      <td>...</td>\n",
       "      <td>...</td>\n",
       "      <td>...</td>\n",
       "    </tr>\n",
       "    <tr>\n",
       "      <th>3447</th>\n",
       "      <td>test3447</td>\n",
       "      <td>when is the met office leaving the bbc</td>\n",
       "      <td>{}</td>\n",
       "    </tr>\n",
       "    <tr>\n",
       "      <th>3448</th>\n",
       "      <td>test3448</td>\n",
       "      <td>where does junior want to go to find hope</td>\n",
       "      <td>{}</td>\n",
       "    </tr>\n",
       "    <tr>\n",
       "      <th>3449</th>\n",
       "      <td>test3449</td>\n",
       "      <td>who does eric end up with in that 70s show</td>\n",
       "      <td>{}</td>\n",
       "    </tr>\n",
       "    <tr>\n",
       "      <th>3450</th>\n",
       "      <td>test3450</td>\n",
       "      <td>where does the great outdoors movie take place</td>\n",
       "      <td>{}</td>\n",
       "    </tr>\n",
       "    <tr>\n",
       "      <th>3451</th>\n",
       "      <td>test3451</td>\n",
       "      <td>when will notre dame played michigan state again</td>\n",
       "      <td>{}</td>\n",
       "    </tr>\n",
       "  </tbody>\n",
       "</table>\n",
       "<p>3452 rows × 3 columns</p>\n",
       "</div>"
      ],
      "text/plain": [
       "           _id                                               text metadata\n",
       "0        test0  what is non controlling interest on balance sheet       {}\n",
       "1        test1     how many episodes are in chicago fire season 4       {}\n",
       "2        test2    who sings love will keep us alive by the eagles       {}\n",
       "3        test3          who is the leader of the ontario pc party       {}\n",
       "4        test4    nitty gritty dirt band fishin in the dark album       {}\n",
       "...        ...                                                ...      ...\n",
       "3447  test3447             when is the met office leaving the bbc       {}\n",
       "3448  test3448          where does junior want to go to find hope       {}\n",
       "3449  test3449         who does eric end up with in that 70s show       {}\n",
       "3450  test3450     where does the great outdoors movie take place       {}\n",
       "3451  test3451   when will notre dame played michigan state again       {}\n",
       "\n",
       "[3452 rows x 3 columns]"
      ]
     },
     "execution_count": 40,
     "metadata": {},
     "output_type": "execute_result"
    }
   ],
   "source": [
    "df_query = pd.read_json(\"../data/nq_sample35/queries.jsonl\", lines=True)\n",
    "df_query"
   ]
  },
  {
   "cell_type": "code",
   "execution_count": 41,
   "id": "f25495c9-78de-4b29-a0f3-4e227d17e023",
   "metadata": {},
   "outputs": [
    {
     "data": {
      "text/html": [
       "<div>\n",
       "<style scoped>\n",
       "    .dataframe tbody tr th:only-of-type {\n",
       "        vertical-align: middle;\n",
       "    }\n",
       "\n",
       "    .dataframe tbody tr th {\n",
       "        vertical-align: top;\n",
       "    }\n",
       "\n",
       "    .dataframe thead th {\n",
       "        text-align: right;\n",
       "    }\n",
       "</style>\n",
       "<table border=\"1\" class=\"dataframe\">\n",
       "  <thead>\n",
       "    <tr style=\"text-align: right;\">\n",
       "      <th></th>\n",
       "      <th>query-id</th>\n",
       "      <th>corpus-id</th>\n",
       "      <th>score</th>\n",
       "    </tr>\n",
       "  </thead>\n",
       "  <tbody>\n",
       "    <tr>\n",
       "      <th>0</th>\n",
       "      <td>test0</td>\n",
       "      <td>doc0</td>\n",
       "      <td>1</td>\n",
       "    </tr>\n",
       "    <tr>\n",
       "      <th>1</th>\n",
       "      <td>test0</td>\n",
       "      <td>doc1</td>\n",
       "      <td>1</td>\n",
       "    </tr>\n",
       "    <tr>\n",
       "      <th>2</th>\n",
       "      <td>test1</td>\n",
       "      <td>doc6</td>\n",
       "      <td>1</td>\n",
       "    </tr>\n",
       "    <tr>\n",
       "      <th>3</th>\n",
       "      <td>test2</td>\n",
       "      <td>doc10</td>\n",
       "      <td>1</td>\n",
       "    </tr>\n",
       "    <tr>\n",
       "      <th>4</th>\n",
       "      <td>test3</td>\n",
       "      <td>doc17</td>\n",
       "      <td>1</td>\n",
       "    </tr>\n",
       "    <tr>\n",
       "      <th>...</th>\n",
       "      <td>...</td>\n",
       "      <td>...</td>\n",
       "      <td>...</td>\n",
       "    </tr>\n",
       "    <tr>\n",
       "      <th>4196</th>\n",
       "      <td>test3449</td>\n",
       "      <td>doc117643</td>\n",
       "      <td>1</td>\n",
       "    </tr>\n",
       "    <tr>\n",
       "      <th>4197</th>\n",
       "      <td>test3449</td>\n",
       "      <td>doc117646</td>\n",
       "      <td>1</td>\n",
       "    </tr>\n",
       "    <tr>\n",
       "      <th>4198</th>\n",
       "      <td>test3450</td>\n",
       "      <td>doc117662</td>\n",
       "      <td>1</td>\n",
       "    </tr>\n",
       "    <tr>\n",
       "      <th>4199</th>\n",
       "      <td>test3450</td>\n",
       "      <td>doc117663</td>\n",
       "      <td>1</td>\n",
       "    </tr>\n",
       "    <tr>\n",
       "      <th>4200</th>\n",
       "      <td>test3451</td>\n",
       "      <td>doc117680</td>\n",
       "      <td>1</td>\n",
       "    </tr>\n",
       "  </tbody>\n",
       "</table>\n",
       "<p>4201 rows × 3 columns</p>\n",
       "</div>"
      ],
      "text/plain": [
       "      query-id  corpus-id  score\n",
       "0        test0       doc0      1\n",
       "1        test0       doc1      1\n",
       "2        test1       doc6      1\n",
       "3        test2      doc10      1\n",
       "4        test3      doc17      1\n",
       "...        ...        ...    ...\n",
       "4196  test3449  doc117643      1\n",
       "4197  test3449  doc117646      1\n",
       "4198  test3450  doc117662      1\n",
       "4199  test3450  doc117663      1\n",
       "4200  test3451  doc117680      1\n",
       "\n",
       "[4201 rows x 3 columns]"
      ]
     },
     "execution_count": 41,
     "metadata": {},
     "output_type": "execute_result"
    }
   ],
   "source": [
    "df_test = pd.read_csv('../data/nq_sample35/qrels/test.tsv', sep='\\t')\n",
    "df_test"
   ]
  },
  {
   "cell_type": "code",
   "execution_count": 42,
   "id": "c1e64707-37f9-4bda-a81a-896292fd1a75",
   "metadata": {},
   "outputs": [
    {
     "name": "stderr",
     "output_type": "stream",
     "text": [
      "100%|█████████████████████████████████████████████████████████████████████████████████████████████████████████████████████████████████████████████████████████| 4201/4201 [15:04<00:00,  4.64it/s]"
     ]
    },
    {
     "name": "stdout",
     "output_type": "stream",
     "text": [
      "  - Recall @1: 0.309\n",
      "  - Recall @3: 0.522\n",
      "  - Recall @5: 0.615\n",
      "  - Recall @10: 0.728\n"
     ]
    },
    {
     "name": "stderr",
     "output_type": "stream",
     "text": [
      "\n"
     ]
    }
   ],
   "source": [
    "hits = defaultdict(list)\n",
    "\n",
    "for i in tqdm(range(len(df_test))):\n",
    "    query_id = df_test['query-id'][i]\n",
    "    answer_id = str(df_test['corpus-id'][i])\n",
    "    query = df_query[df_query['_id'] == query_id]['text'].to_list()[0]\n",
    "\n",
    "    retrieved_answers = retriever.retrieve(query)\n",
    "    retrieved_ids = [os.path.basename(node.metadata[\"source\"][\"source_id\"]).split('.')[0] for node in retrieved_answers]\n",
    "\n",
    "    for k in [1, 3, 5, 10]:\n",
    "        hits[k].append(answer_id in retrieved_ids[:k])\n",
    "\n",
    "for k in hits:\n",
    "    print(f'  - Recall @{k}: {np.mean(hits[k]) :.3f}')"
   ]
  },
  {
   "cell_type": "markdown",
   "id": "02dab2b8-edc6-40ba-ad4d-e4fdc774878f",
   "metadata": {},
   "source": [
    "### HotpotQA_Sample35"
   ]
  },
  {
   "cell_type": "code",
   "execution_count": null,
   "id": "022c14d3-0d6e-4007-96bf-b8f1dac9e768",
   "metadata": {},
   "outputs": [],
   "source": [
    "batch_job_spec = BatchJobSpec(\n",
    "    [\n",
    "        \"../data/hotpotqa_sample35/textfiles/*.txt\",\n",
    "    ]\n",
    ")\n",
    "\n",
    "extract_task = ExtractTask(\n",
    "    document_type=\"text\",\n",
    "    extract_text=True,\n",
    "    extract_images=False,\n",
    "    extract_tables=False,\n",
    "    extract_charts=False,\n",
    ")\n",
    "\n",
    "embed_task = EmbedTask(\n",
    "    text=True,\n",
    "    tables=False,\n",
    ")\n",
    "\n",
    "vdb_upload_task = VdbUploadTask()\n",
    "\n",
    "batch_job_spec.add_task(extract_task)\n",
    "batch_job_spec.add_task(embed_task)\n",
    "batch_job_spec.add_task(vdb_upload_task)\n",
    "\n",
    "client = NvIngestClient(\n",
    "    message_client_hostname=\"localhost\",\n",
    "    message_client_port=7670,\n",
    ")\n",
    "job_ids = client.add_job(batch_job_spec)\n",
    "\n",
    "client.submit_job(job_ids, \"morpheus_task_queue\", batch_size=10)\n",
    "result = client.fetch_job_result(job_ids, timeout=60, verbose=True)"
   ]
  },
  {
   "cell_type": "code",
   "execution_count": 12,
   "id": "708f3420-0cbb-4b93-8a7c-d5da986008bf",
   "metadata": {},
   "outputs": [
    {
     "data": {
      "text/html": [
       "<div>\n",
       "<style scoped>\n",
       "    .dataframe tbody tr th:only-of-type {\n",
       "        vertical-align: middle;\n",
       "    }\n",
       "\n",
       "    .dataframe tbody tr th {\n",
       "        vertical-align: top;\n",
       "    }\n",
       "\n",
       "    .dataframe thead th {\n",
       "        text-align: right;\n",
       "    }\n",
       "</style>\n",
       "<table border=\"1\" class=\"dataframe\">\n",
       "  <thead>\n",
       "    <tr style=\"text-align: right;\">\n",
       "      <th></th>\n",
       "      <th>_id</th>\n",
       "      <th>text</th>\n",
       "      <th>metadata</th>\n",
       "    </tr>\n",
       "  </thead>\n",
       "  <tbody>\n",
       "    <tr>\n",
       "      <th>0</th>\n",
       "      <td>5ab6d31155429954757d3384</td>\n",
       "      <td>What country of origin does House of Cosbys an...</td>\n",
       "      <td>{'answer': 'American', 'supporting_facts': [['...</td>\n",
       "    </tr>\n",
       "    <tr>\n",
       "      <th>1</th>\n",
       "      <td>5ac0d92f554299012d1db645</td>\n",
       "      <td>How many fountains where present \"World of Col...</td>\n",
       "      <td>{'answer': '1,200 musical water fountains', 's...</td>\n",
       "    </tr>\n",
       "    <tr>\n",
       "      <th>2</th>\n",
       "      <td>5abd01335542993a06baf9fc</td>\n",
       "      <td>Chris Larceny directed the music video Gon Joc...</td>\n",
       "      <td>{'answer': 'the Fugees', 'supporting_facts': [...</td>\n",
       "    </tr>\n",
       "    <tr>\n",
       "      <th>3</th>\n",
       "      <td>5abff8c95542994516f4555c</td>\n",
       "      <td>The person where local tradition says Cross La...</td>\n",
       "      <td>{'answer': 'the Iroquois Confederacy', 'suppor...</td>\n",
       "    </tr>\n",
       "    <tr>\n",
       "      <th>4</th>\n",
       "      <td>5adec8ad55429975fa854f8f</td>\n",
       "      <td>The actor who played Carl Sweetchuck in the \"P...</td>\n",
       "      <td>{'answer': 'Denise DeClue', 'supporting_facts'...</td>\n",
       "    </tr>\n",
       "    <tr>\n",
       "      <th>...</th>\n",
       "      <td>...</td>\n",
       "      <td>...</td>\n",
       "      <td>...</td>\n",
       "    </tr>\n",
       "    <tr>\n",
       "      <th>97847</th>\n",
       "      <td>5ab92307554299753720f72d</td>\n",
       "      <td>What Pakistani actor and writer from Islamabad...</td>\n",
       "      <td>{'answer': 'Yasir Hussain', 'supporting_facts'...</td>\n",
       "    </tr>\n",
       "    <tr>\n",
       "      <th>97848</th>\n",
       "      <td>5abba3b1554299642a094aed</td>\n",
       "      <td>Are both Volvic and Canfield's Diet Chocolate ...</td>\n",
       "      <td>{'answer': 'no', 'supporting_facts': [['Volvic...</td>\n",
       "    </tr>\n",
       "    <tr>\n",
       "      <th>97849</th>\n",
       "      <td>5a8173fa554299260e20a28e</td>\n",
       "      <td>Are Billy and Barak both breeds of scenthound?...</td>\n",
       "      <td>{'answer': 'yes', 'supporting_facts': [['Bosni...</td>\n",
       "    </tr>\n",
       "    <tr>\n",
       "      <th>97850</th>\n",
       "      <td>5a8caf1d554299585d9e3720</td>\n",
       "      <td>Were both of the following rock groups formed ...</td>\n",
       "      <td>{'answer': 'yes', 'supporting_facts': [['Dig (...</td>\n",
       "    </tr>\n",
       "    <tr>\n",
       "      <th>97851</th>\n",
       "      <td>5ac132a755429964131be17c</td>\n",
       "      <td>Blackfin is a family of processors developed b...</td>\n",
       "      <td>{'answer': 'Norwood, Massachusetts', 'supporti...</td>\n",
       "    </tr>\n",
       "  </tbody>\n",
       "</table>\n",
       "<p>97852 rows × 3 columns</p>\n",
       "</div>"
      ],
      "text/plain": [
       "                            _id  \\\n",
       "0      5ab6d31155429954757d3384   \n",
       "1      5ac0d92f554299012d1db645   \n",
       "2      5abd01335542993a06baf9fc   \n",
       "3      5abff8c95542994516f4555c   \n",
       "4      5adec8ad55429975fa854f8f   \n",
       "...                         ...   \n",
       "97847  5ab92307554299753720f72d   \n",
       "97848  5abba3b1554299642a094aed   \n",
       "97849  5a8173fa554299260e20a28e   \n",
       "97850  5a8caf1d554299585d9e3720   \n",
       "97851  5ac132a755429964131be17c   \n",
       "\n",
       "                                                    text  \\\n",
       "0      What country of origin does House of Cosbys an...   \n",
       "1      How many fountains where present \"World of Col...   \n",
       "2      Chris Larceny directed the music video Gon Joc...   \n",
       "3      The person where local tradition says Cross La...   \n",
       "4      The actor who played Carl Sweetchuck in the \"P...   \n",
       "...                                                  ...   \n",
       "97847  What Pakistani actor and writer from Islamabad...   \n",
       "97848  Are both Volvic and Canfield's Diet Chocolate ...   \n",
       "97849  Are Billy and Barak both breeds of scenthound?...   \n",
       "97850  Were both of the following rock groups formed ...   \n",
       "97851  Blackfin is a family of processors developed b...   \n",
       "\n",
       "                                                metadata  \n",
       "0      {'answer': 'American', 'supporting_facts': [['...  \n",
       "1      {'answer': '1,200 musical water fountains', 's...  \n",
       "2      {'answer': 'the Fugees', 'supporting_facts': [...  \n",
       "3      {'answer': 'the Iroquois Confederacy', 'suppor...  \n",
       "4      {'answer': 'Denise DeClue', 'supporting_facts'...  \n",
       "...                                                  ...  \n",
       "97847  {'answer': 'Yasir Hussain', 'supporting_facts'...  \n",
       "97848  {'answer': 'no', 'supporting_facts': [['Volvic...  \n",
       "97849  {'answer': 'yes', 'supporting_facts': [['Bosni...  \n",
       "97850  {'answer': 'yes', 'supporting_facts': [['Dig (...  \n",
       "97851  {'answer': 'Norwood, Massachusetts', 'supporti...  \n",
       "\n",
       "[97852 rows x 3 columns]"
      ]
     },
     "execution_count": 12,
     "metadata": {},
     "output_type": "execute_result"
    }
   ],
   "source": [
    "df_query = pd.read_json(\"../data/hotpotqa_sample35/queries.jsonl\", lines=True)\n",
    "df_query"
   ]
  },
  {
   "cell_type": "code",
   "execution_count": 11,
   "id": "398dcdb4-2c10-4850-a58f-0f7d7a569594",
   "metadata": {},
   "outputs": [
    {
     "data": {
      "text/html": [
       "<div>\n",
       "<style scoped>\n",
       "    .dataframe tbody tr th:only-of-type {\n",
       "        vertical-align: middle;\n",
       "    }\n",
       "\n",
       "    .dataframe tbody tr th {\n",
       "        vertical-align: top;\n",
       "    }\n",
       "\n",
       "    .dataframe thead th {\n",
       "        text-align: right;\n",
       "    }\n",
       "</style>\n",
       "<table border=\"1\" class=\"dataframe\">\n",
       "  <thead>\n",
       "    <tr style=\"text-align: right;\">\n",
       "      <th></th>\n",
       "      <th>query-id</th>\n",
       "      <th>corpus-id</th>\n",
       "      <th>score</th>\n",
       "    </tr>\n",
       "  </thead>\n",
       "  <tbody>\n",
       "    <tr>\n",
       "      <th>0</th>\n",
       "      <td>5a8b57f25542995d1e6f1371</td>\n",
       "      <td>2816539</td>\n",
       "      <td>1</td>\n",
       "    </tr>\n",
       "    <tr>\n",
       "      <th>1</th>\n",
       "      <td>5a8b57f25542995d1e6f1371</td>\n",
       "      <td>10520</td>\n",
       "      <td>1</td>\n",
       "    </tr>\n",
       "    <tr>\n",
       "      <th>2</th>\n",
       "      <td>5a8c7595554299585d9e36b6</td>\n",
       "      <td>33022480</td>\n",
       "      <td>1</td>\n",
       "    </tr>\n",
       "    <tr>\n",
       "      <th>3</th>\n",
       "      <td>5a8c7595554299585d9e36b6</td>\n",
       "      <td>804602</td>\n",
       "      <td>1</td>\n",
       "    </tr>\n",
       "    <tr>\n",
       "      <th>4</th>\n",
       "      <td>5a85ea095542994775f606a8</td>\n",
       "      <td>12342237</td>\n",
       "      <td>1</td>\n",
       "    </tr>\n",
       "    <tr>\n",
       "      <th>...</th>\n",
       "      <td>...</td>\n",
       "      <td>...</td>\n",
       "      <td>...</td>\n",
       "    </tr>\n",
       "    <tr>\n",
       "      <th>14805</th>\n",
       "      <td>5a8173fa554299260e20a28e</td>\n",
       "      <td>6920767</td>\n",
       "      <td>1</td>\n",
       "    </tr>\n",
       "    <tr>\n",
       "      <th>14806</th>\n",
       "      <td>5a8caf1d554299585d9e3720</td>\n",
       "      <td>22220767</td>\n",
       "      <td>1</td>\n",
       "    </tr>\n",
       "    <tr>\n",
       "      <th>14807</th>\n",
       "      <td>5a8caf1d554299585d9e3720</td>\n",
       "      <td>1993862</td>\n",
       "      <td>1</td>\n",
       "    </tr>\n",
       "    <tr>\n",
       "      <th>14808</th>\n",
       "      <td>5ac132a755429964131be17c</td>\n",
       "      <td>1085678</td>\n",
       "      <td>1</td>\n",
       "    </tr>\n",
       "    <tr>\n",
       "      <th>14809</th>\n",
       "      <td>5ac132a755429964131be17c</td>\n",
       "      <td>644341</td>\n",
       "      <td>1</td>\n",
       "    </tr>\n",
       "  </tbody>\n",
       "</table>\n",
       "<p>14810 rows × 3 columns</p>\n",
       "</div>"
      ],
      "text/plain": [
       "                       query-id  corpus-id  score\n",
       "0      5a8b57f25542995d1e6f1371    2816539      1\n",
       "1      5a8b57f25542995d1e6f1371      10520      1\n",
       "2      5a8c7595554299585d9e36b6   33022480      1\n",
       "3      5a8c7595554299585d9e36b6     804602      1\n",
       "4      5a85ea095542994775f606a8   12342237      1\n",
       "...                         ...        ...    ...\n",
       "14805  5a8173fa554299260e20a28e    6920767      1\n",
       "14806  5a8caf1d554299585d9e3720   22220767      1\n",
       "14807  5a8caf1d554299585d9e3720    1993862      1\n",
       "14808  5ac132a755429964131be17c    1085678      1\n",
       "14809  5ac132a755429964131be17c     644341      1\n",
       "\n",
       "[14810 rows x 3 columns]"
      ]
     },
     "execution_count": 11,
     "metadata": {},
     "output_type": "execute_result"
    }
   ],
   "source": [
    "df_test = pd.read_csv('../data/hotpotqa_sample35/qrels/test.tsv', sep='\\t')\n",
    "df_test"
   ]
  },
  {
   "cell_type": "code",
   "execution_count": null,
   "id": "2a93288b-122d-408f-9ae1-49665c1c25f9",
   "metadata": {},
   "outputs": [],
   "source": [
    "hits = defaultdict(list)\n",
    "\n",
    "for i in tqdm(range(len(df_test))):\n",
    "    query_id = df_test['query-id'][i]\n",
    "    answer_id = str(df_test['corpus-id'][i])\n",
    "    query = df_query[df_query['_id'] == query_id]['text'].to_list()[0]\n",
    "\n",
    "    retrieved_answers = retriever.retrieve(query)\n",
    "    retrieved_ids = [os.path.basename(node.metadata[\"source\"][\"source_id\"]).split('.')[0] for node in retrieved_answers]\n",
    "\n",
    "    for k in [1, 3, 5, 10]:\n",
    "        hits[k].append(answer_id in retrieved_ids[:k])\n",
    "\n",
    "for k in hits:\n",
    "    print(f'  - Recall @{k}: {np.mean(hits[k]) :.3f}')"
   ]
  },
  {
   "cell_type": "code",
   "execution_count": null,
   "id": "8b83bde3-c1ae-44eb-a733-b91e151402be",
   "metadata": {},
   "outputs": [],
   "source": []
  }
 ],
 "metadata": {
  "kernelspec": {
   "display_name": "Python 3 (ipykernel)",
   "language": "python",
   "name": "python3"
  },
  "language_info": {
   "codemirror_mode": {
    "name": "ipython",
    "version": 3
   },
   "file_extension": ".py",
   "mimetype": "text/x-python",
   "name": "python",
   "nbconvert_exporter": "python",
   "pygments_lexer": "ipython3",
   "version": "3.10.15"
  }
 },
 "nbformat": 4,
 "nbformat_minor": 5
}
