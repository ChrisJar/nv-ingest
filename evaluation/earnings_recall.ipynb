{
 "cells": [
  {
   "cell_type": "code",
   "execution_count": 56,
   "id": "73dd707b-32e3-4012-a7aa-d241b580afcc",
   "metadata": {},
   "outputs": [],
   "source": [
    "from pymilvus import MilvusClient\n",
    "\n",
    "milvus_client = MilvusClient(\"http://localhost:19530\")\n",
    "# milvus_client.drop_collection(collection_name='earnings')"
   ]
  },
  {
   "cell_type": "code",
   "execution_count": null,
   "id": "4724c087-bfdd-46ca-bfaf-6a7e615bc0f7",
   "metadata": {},
   "outputs": [],
   "source": [
    "from nv_ingest_client.client import Ingestor\n",
    "\n",
    "ingestor = (\n",
    "    Ingestor(message_client_hostname=\"localhost\")\n",
    "    .files(\"data/earnings_consulting/*/*.pdf\")\n",
    "    .extract(\n",
    "        extract_text=True,\n",
    "        extract_tables=True,\n",
    "        extract_charts=True,\n",
    "        extract_infographics=True,\n",
    "        extract_images=True,\n",
    "        text_depth=\"page\",\n",
    "    ).embed()\n",
    ")\n",
    "\n",
    "results = ingestor.ingest()"
   ]
  },
  {
   "cell_type": "code",
   "execution_count": 13,
   "id": "01286a63-267f-49fa-ac7f-5adbb73cd8df",
   "metadata": {},
   "outputs": [
    {
     "data": {
      "text/plain": [
       "514"
      ]
     },
     "execution_count": 13,
     "metadata": {},
     "output_type": "execute_result"
    }
   ],
   "source": [
    "len(results)"
   ]
  },
  {
   "cell_type": "code",
   "execution_count": null,
   "id": "d633dd86-c065-41cf-bfb1-77fd8384b826",
   "metadata": {},
   "outputs": [],
   "source": [
    "# Optional: save results\n",
    "import pickle\n",
    "\n",
    "filehandler = open('earnings_results.obj', 'wb')\n",
    "pickle.dump(results, filehandler)"
   ]
  },
  {
   "cell_type": "code",
   "execution_count": 9,
   "id": "a5022859-bce4-49be-aecb-83f0926a2956",
   "metadata": {},
   "outputs": [],
   "source": [
    "# Optional: load results\n",
    "import pickle\n",
    "\n",
    "filehandler = open('earnings_results.obj', 'rb')\n",
    "results = pickle.load(filehandler)"
   ]
  },
  {
   "cell_type": "code",
   "execution_count": 68,
   "id": "51e79739-4b91-4996-879e-6587891de547",
   "metadata": {},
   "outputs": [],
   "source": [
    "from nv_ingest_client.util.milvus import write_to_nvingest_collection, create_nvingest_collection, nvingest_retrieval\n",
    "\n",
    "sparse = False\n",
    "milvus_hostname = \"localhost\"\n",
    "create_nvingest_collection(\"earnings\", f\"http://{milvus_hostname}:19530\", sparse=sparse)"
   ]
  },
  {
   "cell_type": "markdown",
   "id": "4bae7748-9b77-4f74-bce9-8a6775c7bf62",
   "metadata": {},
   "source": [
    "Filter empty"
   ]
  },
  {
   "cell_type": "code",
   "execution_count": 48,
   "id": "2f1f8275-3d32-4bf0-8022-07260ab47227",
   "metadata": {},
   "outputs": [],
   "source": [
    "results = [[element for element in result if element['metadata']['embedding'] is not None] for result in results]"
   ]
  },
  {
   "cell_type": "markdown",
   "id": "595bcf60-3372-4ed7-ad58-a383b21e235b",
   "metadata": {},
   "source": [
    "Filter duplicate PDFs"
   ]
  },
  {
   "cell_type": "code",
   "execution_count": 54,
   "id": "16eb9616-c192-4074-a235-1817e862359a",
   "metadata": {},
   "outputs": [],
   "source": [
    "results = [result for result in results if result[0]['metadata']['source_metadata']['source_id'].split('/')[-1] not in set(['overview-evidence-review-of-data-and-information_1.pdf','corporateventuresinsweden-190228155032_1.pdf'])]"
   ]
  },
  {
   "cell_type": "code",
   "execution_count": 69,
   "id": "1949faf3-b25b-4001-a434-21fa6ad7cc03",
   "metadata": {},
   "outputs": [
    {
     "name": "stdout",
     "output_type": "stream",
     "text": [
      "Wrote data to: [['1d95012b-e11a-410f-b6f6-32c07b8592ab/1.parquet']]\n",
      "Start time: 2025-02-27 11:05:14\n",
      "Imported row count: 17430\n",
      "Bulk earnings upload took 47.1400249004364 s\n"
     ]
    }
   ],
   "source": [
    "write_to_nvingest_collection(results, \"earnings\", sparse=sparse, milvus_uri=f\"http://{milvus_hostname}:19530\", minio_endpoint=\"localhost:9000\")"
   ]
  },
  {
   "cell_type": "code",
   "execution_count": 101,
   "id": "adea63b5-16d0-4c12-8f9d-b488cd0f4f19",
   "metadata": {},
   "outputs": [],
   "source": [
    "from collections import defaultdict\n",
    "from tqdm import tqdm\n",
    "import os\n",
    "import numpy as np\n",
    "\n",
    "def get_recall_scores(query_df, collection_name):\n",
    "    hits = defaultdict(list)\n",
    "    all_answers = nvingest_retrieval(\n",
    "        query_df[\"query\"].to_list(),\n",
    "        collection_name,\n",
    "        hybrid=sparse,\n",
    "        embedding_endpoint=\"http://localhost:8012/v1\",\n",
    "        model_name=\"nvidia/llama-3.2-nv-embedqa-1b-v2\",\n",
    "        top_k=10,\n",
    "    )\n",
    "\n",
    "    for i in range(len(query_df)):\n",
    "        expected_pdf_page = query_df['pdf_page'][i]\n",
    "        retrieved_answers = all_answers[i]\n",
    "        retrieved_pdfs = [os.path.basename(result['entity']['source']['source_id']).split('.')[0] for result in retrieved_answers]\n",
    "        retrieved_pages = [str(result['entity']['content_metadata']['page_number']) for result in retrieved_answers]\n",
    "        retrieved_pdf_pages = [f\"{pdf}_{page}\" for pdf, page in zip(retrieved_pdfs, retrieved_pages)]\n",
    "\n",
    "        # print(expected_pdf_page)\n",
    "        # print(retrieved_pdf_pages)\n",
    "\n",
    "        for k in [1, 5, 10]:\n",
    "            hits[k].append(expected_pdf_page in retrieved_pdf_pages[:k])\n",
    "    \n",
    "    for k in hits:\n",
    "        print(f'  - Recall @{k}: {np.mean(hits[k]) :.3f}')"
   ]
  },
  {
   "cell_type": "code",
   "execution_count": 71,
   "id": "a15c5041-7c56-4f1f-904d-69631ab3ca46",
   "metadata": {
    "scrolled": true
   },
   "outputs": [
    {
     "data": {
      "text/html": [
       "<div>\n",
       "<style scoped>\n",
       "    .dataframe tbody tr th:only-of-type {\n",
       "        vertical-align: middle;\n",
       "    }\n",
       "\n",
       "    .dataframe tbody tr th {\n",
       "        vertical-align: top;\n",
       "    }\n",
       "\n",
       "    .dataframe thead th {\n",
       "        text-align: right;\n",
       "    }\n",
       "</style>\n",
       "<table border=\"1\" class=\"dataframe\">\n",
       "  <thead>\n",
       "    <tr style=\"text-align: right;\">\n",
       "      <th></th>\n",
       "      <th>dir</th>\n",
       "      <th>pdf</th>\n",
       "      <th>page</th>\n",
       "      <th>query</th>\n",
       "      <th>answer</th>\n",
       "      <th>modality</th>\n",
       "      <th>xywh</th>\n",
       "      <th>pdf_page</th>\n",
       "    </tr>\n",
       "  </thead>\n",
       "  <tbody>\n",
       "    <tr>\n",
       "      <th>0</th>\n",
       "      <td>amazon_earnings_call</td>\n",
       "      <td>004e15aa-5d50-4fb3-9e2f-0ad36639778f</td>\n",
       "      <td>7</td>\n",
       "      <td>How many shares of Rivian’s Class A stock are ...</td>\n",
       "      <td>158 million</td>\n",
       "      <td>text</td>\n",
       "      <td>NaN</td>\n",
       "      <td>004e15aa-5d50-4fb3-9e2f-0ad36639778f_7</td>\n",
       "    </tr>\n",
       "    <tr>\n",
       "      <th>1</th>\n",
       "      <td>amazon_earnings_call</td>\n",
       "      <td>004e15aa-5d50-4fb3-9e2f-0ad36639778f</td>\n",
       "      <td>9</td>\n",
       "      <td>What is fair value?</td>\n",
       "      <td>the price that would be received to sell an as...</td>\n",
       "      <td>text</td>\n",
       "      <td>NaN</td>\n",
       "      <td>004e15aa-5d50-4fb3-9e2f-0ad36639778f_9</td>\n",
       "    </tr>\n",
       "    <tr>\n",
       "      <th>2</th>\n",
       "      <td>amazon_earnings_call</td>\n",
       "      <td>004e15aa-5d50-4fb3-9e2f-0ad36639778f</td>\n",
       "      <td>33</td>\n",
       "      <td>What are the the key business and industry cha...</td>\n",
       "      <td>we have many competitors across geographies, i...</td>\n",
       "      <td>text</td>\n",
       "      <td>NaN</td>\n",
       "      <td>004e15aa-5d50-4fb3-9e2f-0ad36639778f_33</td>\n",
       "    </tr>\n",
       "    <tr>\n",
       "      <th>3</th>\n",
       "      <td>amazon_earnings_call</td>\n",
       "      <td>06c52e44-38c4-42b0-90c4-14916435e83e</td>\n",
       "      <td>22</td>\n",
       "      <td>What was the percentage increase in Amazon's s...</td>\n",
       "      <td>15%</td>\n",
       "      <td>text</td>\n",
       "      <td>NaN</td>\n",
       "      <td>06c52e44-38c4-42b0-90c4-14916435e83e_22</td>\n",
       "    </tr>\n",
       "    <tr>\n",
       "      <th>4</th>\n",
       "      <td>amazon_earnings_call</td>\n",
       "      <td>06c52e44-38c4-42b0-90c4-14916435e83e</td>\n",
       "      <td>30</td>\n",
       "      <td>What risk do we face with foreign exchange rat...</td>\n",
       "      <td>foreign exchange rates vary, net sales and oth...</td>\n",
       "      <td>text</td>\n",
       "      <td>NaN</td>\n",
       "      <td>06c52e44-38c4-42b0-90c4-14916435e83e_30</td>\n",
       "    </tr>\n",
       "  </tbody>\n",
       "</table>\n",
       "</div>"
      ],
      "text/plain": [
       "                    dir                                   pdf  page  \\\n",
       "0  amazon_earnings_call  004e15aa-5d50-4fb3-9e2f-0ad36639778f     7   \n",
       "1  amazon_earnings_call  004e15aa-5d50-4fb3-9e2f-0ad36639778f     9   \n",
       "2  amazon_earnings_call  004e15aa-5d50-4fb3-9e2f-0ad36639778f    33   \n",
       "3  amazon_earnings_call  06c52e44-38c4-42b0-90c4-14916435e83e    22   \n",
       "4  amazon_earnings_call  06c52e44-38c4-42b0-90c4-14916435e83e    30   \n",
       "\n",
       "                                               query  \\\n",
       "0  How many shares of Rivian’s Class A stock are ...   \n",
       "1                                What is fair value?   \n",
       "2  What are the the key business and industry cha...   \n",
       "3  What was the percentage increase in Amazon's s...   \n",
       "4  What risk do we face with foreign exchange rat...   \n",
       "\n",
       "                                              answer modality xywh  \\\n",
       "0                                        158 million     text  NaN   \n",
       "1  the price that would be received to sell an as...     text  NaN   \n",
       "2  we have many competitors across geographies, i...     text  NaN   \n",
       "3                                                15%     text  NaN   \n",
       "4  foreign exchange rates vary, net sales and oth...     text  NaN   \n",
       "\n",
       "                                  pdf_page  \n",
       "0   004e15aa-5d50-4fb3-9e2f-0ad36639778f_7  \n",
       "1   004e15aa-5d50-4fb3-9e2f-0ad36639778f_9  \n",
       "2  004e15aa-5d50-4fb3-9e2f-0ad36639778f_33  \n",
       "3  06c52e44-38c4-42b0-90c4-14916435e83e_22  \n",
       "4  06c52e44-38c4-42b0-90c4-14916435e83e_30  "
      ]
     },
     "execution_count": 71,
     "metadata": {},
     "output_type": "execute_result"
    }
   ],
   "source": [
    "import pandas as pd\n",
    "\n",
    "df_query = pd.read_csv('../data/earnings_consulting_multimodal.csv')\n",
    "df_query['pdf_page'] = df_query.apply(lambda x:f\"{x.pdf}_{x.page}\", axis=1)\n",
    "df_query.head()"
   ]
  },
  {
   "cell_type": "code",
   "execution_count": 72,
   "id": "e1a9be5f-59f4-41c3-88b9-6d76418ec8d3",
   "metadata": {},
   "outputs": [
    {
     "data": {
      "text/plain": [
       "modality\n",
       "text           242\n",
       "table          157\n",
       "chart          129\n",
       "infographic    100\n",
       "Name: count, dtype: int64"
      ]
     },
     "execution_count": 72,
     "metadata": {},
     "output_type": "execute_result"
    }
   ],
   "source": [
    "df_query.modality.value_counts()"
   ]
  },
  {
   "cell_type": "code",
   "execution_count": 73,
   "id": "b3b99363-1a0f-42ca-9a66-a03a0528e768",
   "metadata": {},
   "outputs": [
    {
     "name": "stdout",
     "output_type": "stream",
     "text": [
      "  - Recall @1: 0.390\n",
      "  - Recall @5: 0.619\n",
      "  - Recall @10: 0.736\n"
     ]
    }
   ],
   "source": [
    "get_recall_scores(df_query, \"earnings\")"
   ]
  },
  {
   "cell_type": "code",
   "execution_count": 103,
   "id": "1036c436-a677-432f-aae0-e0f60b61c034",
   "metadata": {},
   "outputs": [
    {
     "name": "stdout",
     "output_type": "stream",
     "text": [
      "text\n",
      "  - Recall @1: 0.194\n",
      "  - Recall @5: 0.517\n",
      "  - Recall @10: 0.678\n",
      "table\n",
      "  - Recall @1: 0.255\n",
      "  - Recall @5: 0.465\n",
      "  - Recall @10: 0.592\n",
      "chart\n",
      "  - Recall @1: 0.628\n",
      "  - Recall @5: 0.791\n",
      "  - Recall @10: 0.868\n",
      "infographic\n",
      "  - Recall @1: 0.770\n",
      "  - Recall @5: 0.890\n",
      "  - Recall @10: 0.930\n"
     ]
    }
   ],
   "source": [
    "for modality in df_query.modality.unique():\n",
    "    print(modality)\n",
    "    get_recall_scores(df_query.query(f\"modality=='{modality}'\").reset_index(drop=True), \"earnings\")"
   ]
  },
  {
   "cell_type": "code",
   "execution_count": null,
   "id": "2a394dcf-7c3a-4cd1-ab65-cd2b2c63f6c3",
   "metadata": {},
   "outputs": [],
   "source": []
  }
 ],
 "metadata": {
  "kernelspec": {
   "display_name": "Python 3 (ipykernel)",
   "language": "python",
   "name": "python3"
  },
  "language_info": {
   "codemirror_mode": {
    "name": "ipython",
    "version": 3
   },
   "file_extension": ".py",
   "mimetype": "text/x-python",
   "name": "python",
   "nbconvert_exporter": "python",
   "pygments_lexer": "ipython3",
   "version": "3.10.16"
  }
 },
 "nbformat": 4,
 "nbformat_minor": 5
}
