{
 "cells": [
  {
   "cell_type": "markdown",
   "id": "3ec1d6fd-397b-4534-a7cb-d48cb2109a59",
   "metadata": {},
   "source": [
    "# Recall accuracy with NV-Ingest and LlamaIndex"
   ]
  },
  {
   "cell_type": "markdown",
   "id": "cbbc8d8f-3805-452c-a6cd-9d2c4120441d",
   "metadata": {},
   "source": [
    "### Tables"
   ]
  },
  {
   "cell_type": "markdown",
   "id": "bae1ede0-d3d0-4bbc-ade5-160963fc61ae",
   "metadata": {},
   "source": [
    "Flush vector database otherwise every document you've uploaded previously will be there and could interfere with the results"
   ]
  },
  {
   "cell_type": "code",
   "execution_count": null,
   "id": "35a2066d-ad30-4313-88b7-67248ee78257",
   "metadata": {},
   "outputs": [],
   "source": [
    "from pymilvus import MilvusClient\n",
    "\n",
    "milvus_client = MilvusClient(\"http://localhost:19530\")\n",
    "milvus_client.drop_collection('nv_ingest_collection')"
   ]
  },
  {
   "cell_type": "markdown",
   "id": "79c014fa-feef-45e3-95b5-8ea557b1eeaa",
   "metadata": {},
   "source": [
    "Run NV-Ingest on bo767 and get and store embeddings"
   ]
  },
  {
   "cell_type": "code",
   "execution_count": null,
   "id": "3f7aa138-00ca-4a31-b0d0-63aa03902cf2",
   "metadata": {},
   "outputs": [],
   "source": [
    "nv-ingest-cli \\\n",
    "  --doc=/datasets/bo767/*.pdf \\\n",
    "  --output_directory=./processed_docs/bo767_10_14/ \\\n",
    "  --task='extract:{\"document_type\": \"pdf\", \"extract_method\": \"pdfium\", \"extract_text\": \"false\", \"extract_tables\": \"true\", \"extract_charts\": \"false\", \"extract_images\": \"false\"}' \\\n",
    "  --task='embed:{\"text\": \"false\", \"tables\": \"true\"}' \\\n",
    "  --task='vdb_upload' \\\n",
    "  --client_host=localhost \\\n",
    "  --client_port=7670"
   ]
  },
  {
   "cell_type": "code",
   "execution_count": null,
   "id": "ddfa545c-c4de-4cbd-b1de-14e501e25e38",
   "metadata": {},
   "outputs": [],
   "source": [
    "import os\n",
    "import logging\n",
    "import time\n",
    "import json\n",
    "from tqdm import tqdm\n",
    "from collections import defaultdict\n",
    "import numpy as np\n",
    "import pandas as pd\n",
    "\n",
    "from llama_index.core import VectorStoreIndex\n",
    "from llama_index.vector_stores.milvus import MilvusVectorStore\n",
    "from llama_index.embeddings.nvidia import NVIDIAEmbedding\n",
    "\n",
    "# TODO: Add your NVIDIA API key here\n",
    "os.environ['NVIDIA_API_KEY'] = '<YOUR_NVIDIA_API_KEY>'\n"
   ]
  },
  {
   "cell_type": "markdown",
   "id": "a408fc49-218a-477a-bcb1-c2f4651a0631",
   "metadata": {},
   "source": [
    "Get test queries with expected result pdf and page"
   ]
  },
  {
   "cell_type": "code",
   "execution_count": null,
   "id": "4d756eac-1e8b-42df-bb2d-3578eb58fdf1",
   "metadata": {},
   "outputs": [],
   "source": [
    "df_query = pd.read_csv('table_queries_cleaned_235.csv')[['query','pdf','page','table']]\n",
    "df_query['pdf_page'] = df_query.apply(lambda x: f\"{x.pdf}_{x.page}\", axis=1)\n",
    "df_query"
   ]
  },
  {
   "cell_type": "markdown",
   "id": "ff3f47a6-e1a0-4390-a099-ed820d792ef2",
   "metadata": {},
   "source": [
    "Connect LlamaIndex to our milvus microservice and create a retriever"
   ]
  },
  {
   "cell_type": "code",
   "execution_count": null,
   "id": "8faf9bc5-af12-42ad-a0f8-077219363c2c",
   "metadata": {},
   "outputs": [],
   "source": [
    "embed_model = NVIDIAEmbedding(model=\"NV-Embed-QA\")\n",
    "\n",
    "vector_store = MilvusVectorStore(\n",
    "    uri=\"http://localhost:19530\",\n",
    "    collection_name=\"nv_ingest_collection\",\n",
    "    doc_id_field=\"pk\",\n",
    "    embedding_field=\"vector\",\n",
    "    text_key=\"text\",\n",
    "    dim=1024,\n",
    "    output_fields=[\"source\", \"content_metadata\"],\n",
    "    overwrite=False\n",
    ")\n",
    "index = VectorStoreIndex.from_vector_store(vector_store=vector_store, embed_model=embed_model)\n",
    "retriever = index.as_retriever(similarity_top_k=10)"
   ]
  },
  {
   "cell_type": "markdown",
   "id": "3ea71b02-b2c0-4f82-9170-c490c9e94834",
   "metadata": {},
   "source": [
    "Use the retriever to calculate recall scores"
   ]
  },
  {
   "cell_type": "code",
   "execution_count": null,
   "id": "ceecfad4-8ec2-42d1-bf51-5566b90b0a0a",
   "metadata": {},
   "outputs": [],
   "source": [
    "hits = defaultdict(list)\n",
    "\n",
    "for i in tqdm(range(len(df_query))):\n",
    "    query = df_query['query'][i]\n",
    "    expected_answer = df_query['pdf_page'][i]\n",
    "    retrieved_answers = [\n",
    "        os.path.basename(json.loads(node.json())[\"node\"][\"metadata\"][\"source\"][\"source_id\"]).split('.')[0] + \"_\" + str(json.loads(node.json())[\"node\"][\"metadata\"][\"content_metadata\"][\"page_number\"]) for node in retriever.retrieve(query)\n",
    "    ]\n",
    "\n",
    "    for k in [1, 3, 5, 10]:\n",
    "        hits[k].append(expected_answer in retrieved_answers[:k])\n",
    "\n",
    "for k in hits:\n",
    "    print(f'  - Recall @{k}: {np.mean(hits[k]) :.3f}')"
   ]
  },
  {
   "cell_type": "markdown",
   "id": "1451a0c5-c5cf-43ca-a6a6-20832210387a",
   "metadata": {},
   "source": [
    "### Charts"
   ]
  },
  {
   "cell_type": "raw",
   "id": "5f172292-7b52-4fb5-9806-5fda5c9485b0",
   "metadata": {},
   "source": [
    "from pymilvus import MilvusClient\n",
    "\n",
    "milvus_client = MilvusClient(\"http://localhost:19530\")\n",
    "milvus_client.drop_collection('nv_ingest_collection')"
   ]
  },
  {
   "cell_type": "code",
   "execution_count": null,
   "id": "d1e82f9a-0237-4f88-8be5-88a571983a6e",
   "metadata": {},
   "outputs": [],
   "source": [
    "nv-ingest-cli \\\n",
    "  --doc=/datasets/bo767/*.pdf \\\n",
    "  --output_directory=./processed_docs/bo767_10_14/ \\\n",
    "  --task='extract:{\"document_type\": \"pdf\", \"extract_method\": \"pdfium\", \"extract_text\": \"false\", \"extract_tables\": \"false\", \"extract_charts\": \"true\", \"extract_images\": \"false\"}' \\\n",
    "  --task='embed:{\"text\": \"false\", \"tables\": \"true\"}' \\\n",
    "  --task='vdb_upload' \\\n",
    "  --client_host=localhost \\\n",
    "  --client_port=7670"
   ]
  },
  {
   "cell_type": "code",
   "execution_count": null,
   "id": "7a396368-ef07-4c5a-afab-ca01e6515ab3",
   "metadata": {},
   "outputs": [],
   "source": [
    "df_query = pd.read_csv('charts_with_page_num_fixed.csv')[['query','pdf','page']]\n",
    "df_query['page'] = df_query['page']-1 # page -1 because the page number starts with 1 in that csv\n",
    "df_query['pdf_page'] = df_query.apply(lambda x: f\"{x.pdf}_{x.page}\", axis=1) \n",
    "df_query"
   ]
  },
  {
   "cell_type": "code",
   "execution_count": null,
   "id": "bf9c2c0e-a63f-4c39-aea3-6eea788ccbd2",
   "metadata": {},
   "outputs": [],
   "source": [
    "embed_model = NVIDIAEmbedding(model=\"NV-Embed-QA\")\n",
    "\n",
    "vector_store = MilvusVectorStore(\n",
    "    uri=\"http://localhost:19530\",\n",
    "    collection_name=\"nv_ingest_collection\",\n",
    "    doc_id_field=\"pk\",\n",
    "    embedding_field=\"vector\",\n",
    "    text_key=\"text\",\n",
    "    dim=1024,\n",
    "    output_fields=[\"source\", \"content_metadata\"],\n",
    "    overwrite=False\n",
    ")\n",
    "index = VectorStoreIndex.from_vector_store(vector_store=vector_store, embed_model=embed_model)\n",
    "retriever = index.as_retriever(similarity_top_k=10)"
   ]
  },
  {
   "cell_type": "code",
   "execution_count": null,
   "id": "8aa11dcd-d802-4ad6-a628-dcdeba15d8f6",
   "metadata": {},
   "outputs": [],
   "source": [
    "hits = defaultdict(list)\n",
    "\n",
    "for i in tqdm(range(len(df_query))):\n",
    "    query = df_query['query'][i]\n",
    "    expected_answer = df_query['pdf_page'][i]\n",
    "    retrieved_answers = [\n",
    "        os.path.basename(json.loads(node.json())[\"node\"][\"metadata\"][\"source\"][\"source_id\"]).split('.')[0] + \"_\" + str(json.loads(node.json())[\"node\"][\"metadata\"][\"content_metadata\"][\"page_number\"]) for node in retriever.retrieve(query)\n",
    "    ]\n",
    "\n",
    "    for k in [1, 3, 5, 10]:\n",
    "        hits[k].append(expected_answer in retrieved_answers[:k])\n",
    "\n",
    "for k in hits:\n",
    "    print(f'  - Recall @{k}: {np.mean(hits[k]) :.3f}')"
   ]
  }
 ],
 "metadata": {
  "kernelspec": {
   "display_name": "Python 3 (ipykernel)",
   "language": "python",
   "name": "python3"
  },
  "language_info": {
   "codemirror_mode": {
    "name": "ipython",
    "version": 3
   },
   "file_extension": ".py",
   "mimetype": "text/x-python",
   "name": "python",
   "nbconvert_exporter": "python",
   "pygments_lexer": "ipython3",
   "version": "3.10.15"
  }
 },
 "nbformat": 4,
 "nbformat_minor": 5
}
