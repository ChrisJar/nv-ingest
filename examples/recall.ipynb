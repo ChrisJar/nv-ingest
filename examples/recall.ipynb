{
 "cells": [
  {
   "cell_type": "markdown",
   "id": "3ec1d6fd-397b-4534-a7cb-d48cb2109a59",
   "metadata": {},
   "source": [
    "# Recall accuracy with NV-Ingest and LlamaIndex"
   ]
  },
  {
   "cell_type": "markdown",
   "id": "cbbc8d8f-3805-452c-a6cd-9d2c4120441d",
   "metadata": {},
   "source": [
    "### Tables"
   ]
  },
  {
   "cell_type": "markdown",
   "id": "bae1ede0-d3d0-4bbc-ade5-160963fc61ae",
   "metadata": {},
   "source": [
    "Flush vector database otherwise every document you've uploaded previously will be there and could interfere with the results"
   ]
  },
  {
   "cell_type": "markdown",
   "id": "cf3987bf-9902-440b-8bd3-3fcc84783eb8",
   "metadata": {},
   "source": [
    "from pymilvus import MilvusClient\n",
    "\n",
    "milvus_client = MilvusClient(\"http://localhost:19530\")\n",
    "milvus_client.drop_collection('nv_ingest_collection')"
   ]
  },
  {
   "cell_type": "code",
   "execution_count": 1,
   "id": "f373ceba-d0d2-45d5-ab1a-c03147b93f22",
   "metadata": {},
   "outputs": [
    {
     "data": {
      "text/plain": [
       "{'row_count': 5665}"
      ]
     },
     "execution_count": 1,
     "metadata": {},
     "output_type": "execute_result"
    }
   ],
   "source": [
    "from pymilvus import MilvusClient\n",
    "\n",
    "milvus_client = MilvusClient(\"http://localhost:19530\")\n",
    "milvus_client.list_collections()\n",
    "milvus_client.get_collection_stats(collection_name='nv_ingest_collection')\n",
    "# milvus_client.describe_collection(collection_name='nv_ingest_collection')"
   ]
  },
  {
   "cell_type": "code",
   "execution_count": null,
   "id": "acacb763-c9f9-4673-9980-7866e9f7ff0f",
   "metadata": {},
   "outputs": [],
   "source": []
  },
  {
   "cell_type": "code",
   "execution_count": 16,
   "id": "dc5ea604-a2a7-4809-81ee-9d918b27417c",
   "metadata": {},
   "outputs": [
    {
     "data": {
      "text/plain": [
       "{'delete_count': 0, 'cost': 0}"
      ]
     },
     "execution_count": 16,
     "metadata": {},
     "output_type": "execute_result"
    }
   ],
   "source": [
    "res"
   ]
  },
  {
   "cell_type": "code",
   "execution_count": 124,
   "id": "ef4c8d6b-efab-4826-a4e8-90c1964acc11",
   "metadata": {},
   "outputs": [
    {
     "data": {
      "text/plain": [
       "data: [] "
      ]
     },
     "execution_count": 124,
     "metadata": {},
     "output_type": "execute_result"
    }
   ],
   "source": [
    "milvus_client.query(collection_name='nv_ingest_collection', filter=\"text like \\\"river\\\"\", limit=1)\n"
   ]
  },
  {
   "cell_type": "code",
   "execution_count": 119,
   "id": "638af372-68d3-47c3-a4fb-0a666d3c2258",
   "metadata": {},
   "outputs": [
    {
     "data": {
      "text/plain": [
       "data: [\"{'source': {'access_level': 1, 'collection_id': '', 'date_created': '2016-05-05T19:09:58', 'last_modified': '2016-05-05T19:09:58', 'partition_id': -1, 'source_id': '/datasets/bo767/1210913.pdf', 'source_location': '', 'source_name': '/datasets/bo767/1210913.pdf', 'source_type': 'PDF', 'summary': ''}, 'pk': 453232080492956107}\"] "
      ]
     },
     "execution_count": 119,
     "metadata": {},
     "output_type": "execute_result"
    }
   ],
   "source": [
    "milvus_client.query(collection_name='nv_ingest_collection', output_fields=[\"source\"], limit=1)\n"
   ]
  },
  {
   "cell_type": "markdown",
   "id": "79c014fa-feef-45e3-95b5-8ea557b1eeaa",
   "metadata": {},
   "source": [
    "Run NV-Ingest on bo767 and get and store embeddings"
   ]
  },
  {
   "cell_type": "raw",
   "id": "9f81d8c4-4155-443b-851a-ec2e7b5e33b7",
   "metadata": {},
   "source": [
    "nv-ingest-cli \\\n",
    "  --doc=/datasets/bo767/*.pdf \\\n",
    "  --output_directory=./processed_docs/bo767_10_14/ \\\n",
    "  --task='extract:{\"document_type\": \"pdf\", \"extract_method\": \"pdfium\", \"extract_text\": \"false\", \"extract_tables\": \"true\", \"extract_charts\": \"false\", \"extract_images\": \"false\"}' \\\n",
    "  --task='embed:{\"text\": \"false\", \"tables\": \"true\"}' \\\n",
    "  --task='vdb_upload' \\\n",
    "  --client_host=localhost \\\n",
    "  --client_port=7670"
   ]
  },
  {
   "cell_type": "code",
   "execution_count": 72,
   "id": "822a77ab-4746-4af4-a64a-b958b0534914",
   "metadata": {},
   "outputs": [
    {
     "data": {
      "text/plain": [
       "662"
      ]
     },
     "execution_count": 72,
     "metadata": {},
     "output_type": "execute_result"
    }
   ],
   "source": [
    "lst = sorted(glob.glob('../processed_docs/bo767/structured/*.pdf.metadata.json'))\n",
    "len(lst)"
   ]
  },
  {
   "cell_type": "code",
   "execution_count": 73,
   "id": "6c0c0067-a9d5-4aef-9856-0278656eb8e5",
   "metadata": {},
   "outputs": [
    {
     "name": "stderr",
     "output_type": "stream",
     "text": [
      "100%|████████████████████████████████████████████████████████████████████████████████████████████████████████████████████████████████████████████████████████████████████████████████████████████████████████████████████████████████████████████████████████████████████████████████████████████████████████████████████████████████████████████████████████████████████████████████████████████████████████████████| 662/662 [00:21<00:00, 30.50it/s]\n"
     ]
    },
    {
     "data": {
      "text/plain": [
       "(32863, 2)"
      ]
     },
     "execution_count": 73,
     "metadata": {},
     "output_type": "execute_result"
    }
   ],
   "source": [
    "dfs = []\n",
    "for f in tqdm(lst):\n",
    "    df = pd.read_json(f)\n",
    "    df['pdf'] = int(os.path.basename(f).split('.')[0])\n",
    "    dfs.append(df)\n",
    "dfs = pd.concat(dfs)[['pdf','metadata']]\n",
    "dfs.shape"
   ]
  },
  {
   "cell_type": "code",
   "execution_count": 86,
   "id": "3bd442a2-d2a9-450f-b949-3ee7e5f58e65",
   "metadata": {},
   "outputs": [],
   "source": [
    "dfs['type'] = dfs.metadata.apply(lambda x:x['content_metadata']['subtype'])\n",
    "dfs['page'] = dfs.metadata.apply(lambda x:x['content_metadata']['page_number'])\n",
    "dfs['table_metadata'] = dfs.metadata.apply(lambda x:x['table_metadata'])\n",
    "dfs['table_content'] = dfs.table_metadata.apply(lambda x:x['table_content'])"
   ]
  },
  {
   "cell_type": "code",
   "execution_count": 87,
   "id": "2857e222-e410-4c1f-bb36-ea57958dd14a",
   "metadata": {},
   "outputs": [
    {
     "data": {
      "text/plain": [
       "type\n",
       "table    27198\n",
       "chart     5665\n",
       "Name: count, dtype: int64"
      ]
     },
     "execution_count": 87,
     "metadata": {},
     "output_type": "execute_result"
    }
   ],
   "source": [
    " dfs.type.value_counts()"
   ]
  },
  {
   "cell_type": "code",
   "execution_count": null,
   "id": "c38a0897-57d2-4f89-9fae-f2ca0f443fa4",
   "metadata": {},
   "outputs": [],
   "source": []
  },
  {
   "cell_type": "code",
   "execution_count": 3,
   "id": "ddfa545c-c4de-4cbd-b1de-14e501e25e38",
   "metadata": {},
   "outputs": [],
   "source": [
    "import os\n",
    "import glob\n",
    "import logging\n",
    "import time\n",
    "import json\n",
    "from tqdm import tqdm\n",
    "from collections import defaultdict\n",
    "import numpy as np\n",
    "import pandas as pd\n",
    "\n",
    "from llama_index.core import VectorStoreIndex\n",
    "from llama_index.vector_stores.milvus import MilvusVectorStore\n",
    "from llama_index.embeddings.nvidia import NVIDIAEmbedding\n",
    "\n",
    "# TODO: Add your NVIDIA API key here\n",
    "os.environ['NVIDIA_API_KEY'] = '<YOUR_NVIDIA_API_KEY>'\n"
   ]
  },
  {
   "cell_type": "markdown",
   "id": "a408fc49-218a-477a-bcb1-c2f4651a0631",
   "metadata": {},
   "source": [
    "Get test queries with expected result pdf and page"
   ]
  },
  {
   "cell_type": "code",
   "execution_count": 2,
   "id": "4d756eac-1e8b-42df-bb2d-3578eb58fdf1",
   "metadata": {},
   "outputs": [
    {
     "data": {
      "text/html": [
       "<div>\n",
       "<style scoped>\n",
       "    .dataframe tbody tr th:only-of-type {\n",
       "        vertical-align: middle;\n",
       "    }\n",
       "\n",
       "    .dataframe tbody tr th {\n",
       "        vertical-align: top;\n",
       "    }\n",
       "\n",
       "    .dataframe thead th {\n",
       "        text-align: right;\n",
       "    }\n",
       "</style>\n",
       "<table border=\"1\" class=\"dataframe\">\n",
       "  <thead>\n",
       "    <tr style=\"text-align: right;\">\n",
       "      <th></th>\n",
       "      <th>query</th>\n",
       "      <th>pdf</th>\n",
       "      <th>page</th>\n",
       "      <th>table</th>\n",
       "      <th>pdf_page</th>\n",
       "    </tr>\n",
       "  </thead>\n",
       "  <tbody>\n",
       "    <tr>\n",
       "      <th>0</th>\n",
       "      <td>How much did Pendleton County spend out of the...</td>\n",
       "      <td>1003421</td>\n",
       "      <td>2</td>\n",
       "      <td>1003421_2_0</td>\n",
       "      <td>1003421_2</td>\n",
       "    </tr>\n",
       "    <tr>\n",
       "      <th>1</th>\n",
       "      <td>How many units are occupied by single families...</td>\n",
       "      <td>1008059</td>\n",
       "      <td>6</td>\n",
       "      <td>1008059_6_1</td>\n",
       "      <td>1008059_6</td>\n",
       "    </tr>\n",
       "    <tr>\n",
       "      <th>2</th>\n",
       "      <td>In the Klamath county, what is the total valua...</td>\n",
       "      <td>1008059</td>\n",
       "      <td>6</td>\n",
       "      <td>1008059_6_1</td>\n",
       "      <td>1008059_6</td>\n",
       "    </tr>\n",
       "    <tr>\n",
       "      <th>3</th>\n",
       "      <td>How much did Nalco pay GRIDCO for electricity ...</td>\n",
       "      <td>1011810</td>\n",
       "      <td>21</td>\n",
       "      <td>1011810_21_0</td>\n",
       "      <td>1011810_21</td>\n",
       "    </tr>\n",
       "    <tr>\n",
       "      <th>4</th>\n",
       "      <td>How much coal is used at Alumina refinery of N...</td>\n",
       "      <td>1011810</td>\n",
       "      <td>21</td>\n",
       "      <td>1011810_21_2</td>\n",
       "      <td>1011810_21</td>\n",
       "    </tr>\n",
       "    <tr>\n",
       "      <th>...</th>\n",
       "      <td>...</td>\n",
       "      <td>...</td>\n",
       "      <td>...</td>\n",
       "      <td>...</td>\n",
       "      <td>...</td>\n",
       "    </tr>\n",
       "    <tr>\n",
       "      <th>230</th>\n",
       "      <td>How much is the rental income from water plant...</td>\n",
       "      <td>2407280</td>\n",
       "      <td>30</td>\n",
       "      <td>2407280_30_0</td>\n",
       "      <td>2407280_30</td>\n",
       "    </tr>\n",
       "    <tr>\n",
       "      <th>231</th>\n",
       "      <td>In 2020 how much were the supplemental taxes f...</td>\n",
       "      <td>2415001</td>\n",
       "      <td>65</td>\n",
       "      <td>not detected</td>\n",
       "      <td>2415001_65</td>\n",
       "    </tr>\n",
       "    <tr>\n",
       "      <th>232</th>\n",
       "      <td>As of 2020, what is the total of collections a...</td>\n",
       "      <td>2415001</td>\n",
       "      <td>65</td>\n",
       "      <td>not detected</td>\n",
       "      <td>2415001_65</td>\n",
       "    </tr>\n",
       "    <tr>\n",
       "      <th>233</th>\n",
       "      <td>What was the net gain from the operations of t...</td>\n",
       "      <td>2416020</td>\n",
       "      <td>84</td>\n",
       "      <td>2416020_84_0</td>\n",
       "      <td>2416020_84</td>\n",
       "    </tr>\n",
       "    <tr>\n",
       "      <th>234</th>\n",
       "      <td>What was the highest operating expense in Nove...</td>\n",
       "      <td>2416020</td>\n",
       "      <td>84</td>\n",
       "      <td>2416020_84_0</td>\n",
       "      <td>2416020_84</td>\n",
       "    </tr>\n",
       "  </tbody>\n",
       "</table>\n",
       "<p>235 rows × 5 columns</p>\n",
       "</div>"
      ],
      "text/plain": [
       "                                                 query      pdf  page  \\\n",
       "0    How much did Pendleton County spend out of the...  1003421     2   \n",
       "1    How many units are occupied by single families...  1008059     6   \n",
       "2    In the Klamath county, what is the total valua...  1008059     6   \n",
       "3    How much did Nalco pay GRIDCO for electricity ...  1011810    21   \n",
       "4    How much coal is used at Alumina refinery of N...  1011810    21   \n",
       "..                                                 ...      ...   ...   \n",
       "230  How much is the rental income from water plant...  2407280    30   \n",
       "231  In 2020 how much were the supplemental taxes f...  2415001    65   \n",
       "232  As of 2020, what is the total of collections a...  2415001    65   \n",
       "233  What was the net gain from the operations of t...  2416020    84   \n",
       "234  What was the highest operating expense in Nove...  2416020    84   \n",
       "\n",
       "            table    pdf_page  \n",
       "0     1003421_2_0   1003421_2  \n",
       "1     1008059_6_1   1008059_6  \n",
       "2     1008059_6_1   1008059_6  \n",
       "3    1011810_21_0  1011810_21  \n",
       "4    1011810_21_2  1011810_21  \n",
       "..            ...         ...  \n",
       "230  2407280_30_0  2407280_30  \n",
       "231  not detected  2415001_65  \n",
       "232  not detected  2415001_65  \n",
       "233  2416020_84_0  2416020_84  \n",
       "234  2416020_84_0  2416020_84  \n",
       "\n",
       "[235 rows x 5 columns]"
      ]
     },
     "execution_count": 2,
     "metadata": {},
     "output_type": "execute_result"
    }
   ],
   "source": [
    "df_query = pd.read_csv('table_queries_cleaned_235.csv')[['query','pdf','page','table']]\n",
    "df_query['pdf_page'] = df_query.apply(lambda x: f\"{x.pdf}_{x.page}\", axis=1)\n",
    "df_query"
   ]
  },
  {
   "cell_type": "markdown",
   "id": "ff3f47a6-e1a0-4390-a099-ed820d792ef2",
   "metadata": {},
   "source": [
    "Connect LlamaIndex to our milvus microservice and create a retriever"
   ]
  },
  {
   "cell_type": "code",
   "execution_count": 3,
   "id": "8faf9bc5-af12-42ad-a0f8-077219363c2c",
   "metadata": {},
   "outputs": [],
   "source": [
    "embed_model = NVIDIAEmbedding(model=\"nvidia/nv-embedqa-e5-v5\")\n",
    "\n",
    "vector_store = MilvusVectorStore(\n",
    "    uri=\"http://localhost:19530\",\n",
    "    collection_name=\"nv_ingest_collection\",\n",
    "    doc_id_field=\"pk\",\n",
    "    embedding_field=\"vector\",\n",
    "    text_key=\"text\",\n",
    "    dim=1024,\n",
    "    output_fields=[\"source\", \"content_metadata\"],\n",
    "    overwrite=False\n",
    ")\n",
    "index = VectorStoreIndex.from_vector_store(vector_store=vector_store, embed_model=embed_model)\n",
    "retriever = index.as_retriever(similarity_top_k=10)"
   ]
  },
  {
   "cell_type": "code",
   "execution_count": 130,
   "id": "9494135b-6a8a-4e33-a4ff-82fe172063a5",
   "metadata": {},
   "outputs": [
    {
     "data": {
      "text/plain": [
       "MilvusVectorStore(stores_text=True, is_embedding_query=True, stores_node=True, uri='./milvus_llamaindex.db', token='', collection_name='nv_ingest_collection', dim=1024, embedding_field='vector', doc_id_field='pk', similarity_metric='IP', consistency_level='Session', overwrite=False, text_key='text', output_fields=['source', 'content_metadata'], index_config={}, search_config={}, collection_properties=None, batch_size=100, enable_sparse=False, sparse_embedding_field='sparse_embedding', sparse_embedding_function=None, hybrid_ranker='RRFRanker', hybrid_ranker_params={}, index_management=<IndexManagement.CREATE_IF_NOT_EXISTS: 'create_if_not_exists'>, scalar_field_names=None, scalar_field_types=None)"
      ]
     },
     "execution_count": 130,
     "metadata": {},
     "output_type": "execute_result"
    }
   ],
   "source": [
    "retriever._vector_store"
   ]
  },
  {
   "cell_type": "code",
   "execution_count": 64,
   "id": "fe717871-d1e2-4303-a74f-b456b7fc35aa",
   "metadata": {},
   "outputs": [
    {
     "name": "stdout",
     "output_type": "stream",
     "text": [
      "Help on method retrieve in module llama_index.core.base.base_retriever:\n",
      "\n",
      "retrieve(str_or_query_bundle: Union[str, llama_index.core.schema.QueryBundle]) -> List[llama_index.core.schema.NodeWithScore] method of llama_index.core.indices.vector_store.retrievers.retriever.VectorIndexRetriever instance\n",
      "    Retrieve nodes given query.\n",
      "    \n",
      "    Args:\n",
      "        str_or_query_bundle (QueryType): Either a query string or\n",
      "            a QueryBundle object.\n",
      "\n"
     ]
    }
   ],
   "source": [
    "help(retriever.retrieve)"
   ]
  },
  {
   "cell_type": "markdown",
   "id": "3ea71b02-b2c0-4f82-9170-c490c9e94834",
   "metadata": {},
   "source": [
    "Use the retriever to calculate recall scores"
   ]
  },
  {
   "cell_type": "code",
   "execution_count": 4,
   "id": "ceecfad4-8ec2-42d1-bf51-5566b90b0a0a",
   "metadata": {},
   "outputs": [
    {
     "name": "stderr",
     "output_type": "stream",
     "text": [
      "100%|███████████████████████████████████████████████████████████████████████████████████████████████████████████████████████████████████████████████████████████| 235/235 [01:49<00:00,  2.15it/s]"
     ]
    },
    {
     "name": "stdout",
     "output_type": "stream",
     "text": [
      "  - Recall @1: 0.447\n",
      "  - Recall @3: 0.651\n",
      "  - Recall @5: 0.736\n",
      "  - Recall @10: 0.796\n"
     ]
    },
    {
     "name": "stderr",
     "output_type": "stream",
     "text": [
      "\n"
     ]
    }
   ],
   "source": [
    "hits = defaultdict(list)\n",
    "\n",
    "for i in tqdm(range(len(df_query))):\n",
    "    query = df_query['query'][i]\n",
    "    expected_pdf_page = df_query['pdf_page'][i]\n",
    "    retrieved_answers = retriever.retrieve(query)\n",
    "    retrieved_pdfs = [os.path.basename(json.loads(node.json())[\"node\"][\"metadata\"][\"source\"][\"source_id\"]).split('.')[0] for node in retrieved_answers]\n",
    "    retrieved_pages = [str(json.loads(node.json())[\"node\"][\"metadata\"][\"content_metadata\"][\"page_number\"]) for node in retrieved_answers]\n",
    "    retrieved_pdf_pages = [f\"{pdf}_{page}\" for pdf, page in zip(retrieved_pdfs, retrieved_pages)]\n",
    "\n",
    "    for k in [1, 3, 5, 10]:\n",
    "        hits[k].append(expected_pdf_page in retrieved_pdf_pages[:k])\n",
    "\n",
    "for k in hits:\n",
    "    print(f'  - Recall @{k}: {np.mean(hits[k]) :.3f}')"
   ]
  },
  {
   "cell_type": "code",
   "execution_count": 99,
   "id": "8f9f4f6a-4024-45ff-a2e5-f0e08b1628ac",
   "metadata": {},
   "outputs": [
    {
     "name": "stdout",
     "output_type": "stream",
     "text": [
      "8\n",
      "8\n",
      "8\n",
      "7\n",
      "8\n",
      "9\n",
      "9\n",
      "5\n",
      "5\n",
      "9\n",
      "8\n",
      "9\n",
      "9\n",
      "9\n",
      "9\n",
      "6\n",
      "9\n",
      "9\n",
      "8\n",
      "8\n"
     ]
    }
   ],
   "source": [
    "\n",
    "for i in range(len(df_query)):\n",
    "    query = df_query['query'][i]\n",
    "    retrieved_answers = retriever.retrieve(query)\n",
    "\n",
    "    if len(retrieved_answers) < 10:\n",
    "        print(len(retrieved_answers))\n"
   ]
  },
  {
   "cell_type": "markdown",
   "id": "1451a0c5-c5cf-43ca-a6a6-20832210387a",
   "metadata": {},
   "source": [
    "### Charts"
   ]
  },
  {
   "cell_type": "raw",
   "id": "5f172292-7b52-4fb5-9806-5fda5c9485b0",
   "metadata": {},
   "source": [
    "from pymilvus import MilvusClient\n",
    "\n",
    "milvus_client = MilvusClient(\"http://localhost:19530\")\n",
    "milvus_client.drop_collection('nv_ingest_collection')"
   ]
  },
  {
   "cell_type": "code",
   "execution_count": null,
   "id": "d1e82f9a-0237-4f88-8be5-88a571983a6e",
   "metadata": {},
   "outputs": [],
   "source": [
    "nv-ingest-cli \\\n",
    "  --doc=/datasets/bo767/*.pdf \\\n",
    "  --output_directory=./processed_docs/bo767_10_14/ \\\n",
    "  --task='extract:{\"document_type\": \"pdf\", \"extract_method\": \"pdfium\", \"extract_text\": \"false\", \"extract_tables\": \"false\", \"extract_charts\": \"true\", \"extract_images\": \"false\"}' \\\n",
    "  --task='embed:{\"text\": \"false\", \"tables\": \"true\"}' \\\n",
    "  --task='vdb_upload' \\\n",
    "  --client_host=localhost \\\n",
    "  --client_port=7670"
   ]
  },
  {
   "cell_type": "code",
   "execution_count": 5,
   "id": "7a396368-ef07-4c5a-afab-ca01e6515ab3",
   "metadata": {},
   "outputs": [
    {
     "data": {
      "text/html": [
       "<div>\n",
       "<style scoped>\n",
       "    .dataframe tbody tr th:only-of-type {\n",
       "        vertical-align: middle;\n",
       "    }\n",
       "\n",
       "    .dataframe tbody tr th {\n",
       "        vertical-align: top;\n",
       "    }\n",
       "\n",
       "    .dataframe thead th {\n",
       "        text-align: right;\n",
       "    }\n",
       "</style>\n",
       "<table border=\"1\" class=\"dataframe\">\n",
       "  <thead>\n",
       "    <tr style=\"text-align: right;\">\n",
       "      <th></th>\n",
       "      <th>query</th>\n",
       "      <th>pdf</th>\n",
       "      <th>page</th>\n",
       "      <th>pdf_page</th>\n",
       "    </tr>\n",
       "  </thead>\n",
       "  <tbody>\n",
       "    <tr>\n",
       "      <th>0</th>\n",
       "      <td>What are the top three consumer complaint cate...</td>\n",
       "      <td>1009210</td>\n",
       "      <td>11</td>\n",
       "      <td>1009210_11</td>\n",
       "    </tr>\n",
       "    <tr>\n",
       "      <th>1</th>\n",
       "      <td>Which 3 categories did extremely well in terms...</td>\n",
       "      <td>1009210</td>\n",
       "      <td>11</td>\n",
       "      <td>1009210_11</td>\n",
       "    </tr>\n",
       "    <tr>\n",
       "      <th>2</th>\n",
       "      <td>What's the longest recent US recession?</td>\n",
       "      <td>1010876</td>\n",
       "      <td>0</td>\n",
       "      <td>1010876_0</td>\n",
       "    </tr>\n",
       "    <tr>\n",
       "      <th>3</th>\n",
       "      <td>Is the 12-Month default rate usually higher th...</td>\n",
       "      <td>1010876</td>\n",
       "      <td>0</td>\n",
       "      <td>1010876_0</td>\n",
       "    </tr>\n",
       "    <tr>\n",
       "      <th>4</th>\n",
       "      <td>Which allegation is submitted highest to RTAs ...</td>\n",
       "      <td>1014669</td>\n",
       "      <td>0</td>\n",
       "      <td>1014669_0</td>\n",
       "    </tr>\n",
       "    <tr>\n",
       "      <th>...</th>\n",
       "      <td>...</td>\n",
       "      <td>...</td>\n",
       "      <td>...</td>\n",
       "      <td>...</td>\n",
       "    </tr>\n",
       "    <tr>\n",
       "      <th>263</th>\n",
       "      <td>After the 2008 recession, what percentage of p...</td>\n",
       "      <td>2384395</td>\n",
       "      <td>6</td>\n",
       "      <td>2384395_6</td>\n",
       "    </tr>\n",
       "    <tr>\n",
       "      <th>264</th>\n",
       "      <td>what were the top 3 major religious groups in ...</td>\n",
       "      <td>2392676</td>\n",
       "      <td>5</td>\n",
       "      <td>2392676_5</td>\n",
       "    </tr>\n",
       "    <tr>\n",
       "      <th>265</th>\n",
       "      <td>What percentage of people in the world identif...</td>\n",
       "      <td>2392676</td>\n",
       "      <td>5</td>\n",
       "      <td>2392676_5</td>\n",
       "    </tr>\n",
       "    <tr>\n",
       "      <th>266</th>\n",
       "      <td>Between 2003 and 2019, has the household mortg...</td>\n",
       "      <td>2410699</td>\n",
       "      <td>189</td>\n",
       "      <td>2410699_189</td>\n",
       "    </tr>\n",
       "    <tr>\n",
       "      <th>267</th>\n",
       "      <td>When did the total household mortgage debt in ...</td>\n",
       "      <td>2410699</td>\n",
       "      <td>189</td>\n",
       "      <td>2410699_189</td>\n",
       "    </tr>\n",
       "  </tbody>\n",
       "</table>\n",
       "<p>268 rows × 4 columns</p>\n",
       "</div>"
      ],
      "text/plain": [
       "                                                 query      pdf  page  \\\n",
       "0    What are the top three consumer complaint cate...  1009210    11   \n",
       "1    Which 3 categories did extremely well in terms...  1009210    11   \n",
       "2              What's the longest recent US recession?  1010876     0   \n",
       "3    Is the 12-Month default rate usually higher th...  1010876     0   \n",
       "4    Which allegation is submitted highest to RTAs ...  1014669     0   \n",
       "..                                                 ...      ...   ...   \n",
       "263  After the 2008 recession, what percentage of p...  2384395     6   \n",
       "264  what were the top 3 major religious groups in ...  2392676     5   \n",
       "265  What percentage of people in the world identif...  2392676     5   \n",
       "266  Between 2003 and 2019, has the household mortg...  2410699   189   \n",
       "267  When did the total household mortgage debt in ...  2410699   189   \n",
       "\n",
       "        pdf_page  \n",
       "0     1009210_11  \n",
       "1     1009210_11  \n",
       "2      1010876_0  \n",
       "3      1010876_0  \n",
       "4      1014669_0  \n",
       "..           ...  \n",
       "263    2384395_6  \n",
       "264    2392676_5  \n",
       "265    2392676_5  \n",
       "266  2410699_189  \n",
       "267  2410699_189  \n",
       "\n",
       "[268 rows x 4 columns]"
      ]
     },
     "execution_count": 5,
     "metadata": {},
     "output_type": "execute_result"
    }
   ],
   "source": [
    "df_query = pd.read_csv('charts_with_page_num_fixed.csv')[['query','pdf','page']]\n",
    "df_query['page'] = df_query['page']-1 # page -1 because the page number starts with 1 in that csv\n",
    "df_query['pdf_page'] = df_query.apply(lambda x: f\"{x.pdf}_{x.page}\", axis=1) \n",
    "df_query"
   ]
  },
  {
   "cell_type": "code",
   "execution_count": 6,
   "id": "bf9c2c0e-a63f-4c39-aea3-6eea788ccbd2",
   "metadata": {},
   "outputs": [],
   "source": [
    "embed_model = NVIDIAEmbedding(model=\"NV-Embed-QA\")\n",
    "\n",
    "vector_store = MilvusVectorStore(\n",
    "    uri=\"http://localhost:19530\",\n",
    "    collection_name=\"nv_ingest_collection\",\n",
    "    doc_id_field=\"pk\",\n",
    "    embedding_field=\"vector\",\n",
    "    text_key=\"text\",\n",
    "    dim=1024,\n",
    "    output_fields=[\"source\", \"content_metadata\"],\n",
    "    overwrite=False\n",
    ")\n",
    "index = VectorStoreIndex.from_vector_store(vector_store=vector_store, embed_model=embed_model)\n",
    "retriever = index.as_retriever(similarity_top_k=10)"
   ]
  },
  {
   "cell_type": "code",
   "execution_count": 7,
   "id": "8aa11dcd-d802-4ad6-a628-dcdeba15d8f6",
   "metadata": {},
   "outputs": [
    {
     "name": "stderr",
     "output_type": "stream",
     "text": [
      "100%|██████████████████████████████████████████████████████████████████████████████████████████████████████████████████████████████████████████████████████████████████████████████████████████████████████████████████████████████████████████████████████████████████████████████████████████████████████████████████████████████████████████████████████████████████████████████████████████████████| 268/268 [02:16<00:00,  1.96it/s]"
     ]
    },
    {
     "name": "stdout",
     "output_type": "stream",
     "text": [
      "  - Recall @1: 0.593\n",
      "  - Recall @3: 0.713\n",
      "  - Recall @5: 0.757\n",
      "  - Recall @10: 0.810\n"
     ]
    },
    {
     "name": "stderr",
     "output_type": "stream",
     "text": [
      "\n"
     ]
    }
   ],
   "source": [
    "hits = defaultdict(list)\n",
    "\n",
    "for i in tqdm(range(len(df_query))):\n",
    "    query = df_query['query'][i]\n",
    "    expected_answer = df_query['pdf_page'][i]\n",
    "    retrieved_answers = [\n",
    "        os.path.basename(json.loads(node.json())[\"node\"][\"metadata\"][\"source\"][\"source_id\"]).split('.')[0] + \"_\" + str(json.loads(node.json())[\"node\"][\"metadata\"][\"content_metadata\"][\"page_number\"]) for node in retriever.retrieve(query)\n",
    "    ]\n",
    "\n",
    "    for k in [1, 3, 5, 10]:\n",
    "        hits[k].append(expected_answer in retrieved_answers[:k])\n",
    "\n",
    "for k in hits:\n",
    "    print(f'  - Recall @{k}: {np.mean(hits[k]) :.3f}')"
   ]
  },
  {
   "cell_type": "code",
   "execution_count": 104,
   "id": "70f12c9b-6adf-434a-b26f-74d063a0bddb",
   "metadata": {},
   "outputs": [
    {
     "data": {
      "text/plain": [
       "10"
      ]
     },
     "execution_count": 104,
     "metadata": {},
     "output_type": "execute_result"
    }
   ],
   "source": [
    "retriever"
   ]
  },
  {
   "cell_type": "code",
   "execution_count": null,
   "id": "3417c296-c4f7-45db-aaf6-acaa26dc720a",
   "metadata": {},
   "outputs": [],
   "source": []
  }
 ],
 "metadata": {
  "kernelspec": {
   "display_name": "Python 3 (ipykernel)",
   "language": "python",
   "name": "python3"
  },
  "language_info": {
   "codemirror_mode": {
    "name": "ipython",
    "version": 3
   },
   "file_extension": ".py",
   "mimetype": "text/x-python",
   "name": "python",
   "nbconvert_exporter": "python",
   "pygments_lexer": "ipython3",
   "version": "3.10.15"
  }
 },
 "nbformat": 4,
 "nbformat_minor": 5
}
