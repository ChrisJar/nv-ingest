{
 "cells": [
  {
   "cell_type": "markdown",
   "id": "3ec1d6fd-397b-4534-a7cb-d48cb2109a59",
   "metadata": {},
   "source": [
    "# Calculate retrieval recall accuracy with NV-Ingest and LlamaIndex"
   ]
  },
  {
   "cell_type": "markdown",
   "id": "d2284648-cfd1-4dfa-b75a-80819f48d9bc",
   "metadata": {},
   "source": [
    "In this notebook, we'll use NV-ingest and LlamaIndex to calculate the end-to-end recall accuracy of a retrieval pipeline made up of NV-Ingest's extraction, embedding, and vector database (VDB) upload tasks and LlamaIndex's retrieval functionality."
   ]
  },
  {
   "cell_type": "markdown",
   "id": "bfbde5ab-5b2f-49b9-bd33-5f8c1aa393cc",
   "metadata": {},
   "source": [
    "**Note:** In order to run this notebook, you'll need to have the NV-Ingest microservice running along with all of the other included microservices. To do this, make sure all of the services are uncommented in the file: [docker-compose.yaml](https://github.com/NVIDIA/nv-ingest/blob/main/docker-compose.yaml) and follow the [quickstart guide](https://github.com/NVIDIA/nv-ingest?tab=readme-ov-file#quickstart) to start everything up."
   ]
  },
  {
   "cell_type": "markdown",
   "id": "cbbc8d8f-3805-452c-a6cd-9d2c4120441d",
   "metadata": {},
   "source": [
    "### Calculating table recall"
   ]
  },
  {
   "cell_type": "markdown",
   "id": "bae1ede0-d3d0-4bbc-ade5-160963fc61ae",
   "metadata": {},
   "source": [
    "**Important:** nv_ingest_collection in the Milvus VDB must be empty before running so we can make sure that only the tables we're extracting get pulled. This means that the following code should return a row count of `0`."
   ]
  },
  {
   "cell_type": "code",
   "execution_count": 8,
   "id": "f373ceba-d0d2-45d5-ab1a-c03147b93f22",
   "metadata": {},
   "outputs": [
    {
     "data": {
      "text/plain": [
       "{'row_count': 0}"
      ]
     },
     "execution_count": 8,
     "metadata": {},
     "output_type": "execute_result"
    }
   ],
   "source": [
    "from pymilvus import MilvusClient\n",
    "\n",
    "milvus_client = MilvusClient(\"http://localhost:19530\")\n",
    "milvus_client.get_collection_stats(collection_name='nv_ingest_collection')"
   ]
  },
  {
   "cell_type": "code",
   "execution_count": 3,
   "id": "ddfa545c-c4de-4cbd-b1de-14e501e25e38",
   "metadata": {},
   "outputs": [],
   "source": [
    "import os\n",
    "import glob\n",
    "import logging\n",
    "import time\n",
    "import json\n",
    "from tqdm import tqdm\n",
    "from collections import defaultdict\n",
    "import numpy as np\n",
    "import pandas as pd\n",
    "\n",
    "from llama_index.core import VectorStoreIndex\n",
    "from llama_index.vector_stores.milvus import MilvusVectorStore\n",
    "from llama_index.embeddings.nvidia import NVIDIAEmbedding\n",
    "\n",
    "# TODO: Add your NVIDIA API key here\n",
    "os.environ['NVIDIA_API_KEY'] = '<YOUR_NVIDIA_API_KEY>'"
   ]
  },
  {
   "cell_type": "markdown",
   "id": "eceb4a67-bd16-4cb8-ad08-a967ad8e21bd",
   "metadata": {},
   "source": [
    "First, well use NV-Ingest's pdfium model ensemble to extract tables, we'll use the included embedding NIM to generate embeddings for those extracted tables, and then we'll store those embeddings in the Milvus VDB. We'll do this by creating a batch NV-Ingest job and adding tasks for table extraction, embedding, and VDB upload. "
   ]
  },
  {
   "cell_type": "code",
   "execution_count": null,
   "id": "6a98fa6f-0ad4-43cb-91a2-113a823bc383",
   "metadata": {},
   "outputs": [],
   "source": [
    "from nv_ingest_client.client import NvIngestClient\n",
    "from nv_ingest_client.primitives import BatchJobSpec\n",
    "from nv_ingest_client.primitives.tasks import ExtractTask\n",
    "from nv_ingest_client.primitives.tasks import EmbedTask\n",
    "from nv_ingest_client.primitives.tasks import VdbUploadTask\n",
    "\n",
    "batch_job_spec = BatchJobSpec(\n",
    "    [\n",
    "        \"data/bo767/*.pdf\",\n",
    "    ]\n",
    ")\n",
    "\n",
    "extract_task = ExtractTask(\n",
    "    document_type=\"pdf\",\n",
    "    extract_text=False,\n",
    "    extract_images=False,\n",
    "    extract_tables=True,\n",
    "    extract_charts=False,\n",
    ")\n",
    "\n",
    "embed_task = EmbedTask(\n",
    "    text=False,\n",
    "    tables=True,\n",
    ")\n",
    "\n",
    "vdb_upload_task = VdbUploadTask()\n",
    "\n",
    "batch_job_spec.add_task(extract_task)\n",
    "batch_job_spec.add_task(embed_task)\n",
    "batch_job_spec.add_task(vdb_upload_task)\n",
    "\n",
    "client = NvIngestClient(\n",
    "    message_client_hostname=\"nv-ingest-ms-runtime\",  # Host where nv-ingest-ms-runtime is running\n",
    "    message_client_port=7670,  # REST port, defaults to 7670\n",
    ")\n",
    "job_ids = client.add_job(batch_job_spec)\n",
    "\n",
    "client.submit_job(job_ids, \"morpheus_task_queue\", batch_size=10)\n",
    "result = client.fetch_job_result(job_ids, timeout=60, verbose=True)"
   ]
  },
  {
   "cell_type": "markdown",
   "id": "a408fc49-218a-477a-bcb1-c2f4651a0631",
   "metadata": {},
   "source": [
    "Now, our extracted tables and their corresponding embeddings are uploaded and indexed in the Milvus VDB"
   ]
  },
  {
   "cell_type": "code",
   "execution_count": 11,
   "id": "b6062dd8-8748-4307-9f57-1eee075f6222",
   "metadata": {},
   "outputs": [
    {
     "data": {
      "text/plain": [
       "{'row_count': 27198}"
      ]
     },
     "execution_count": 11,
     "metadata": {},
     "output_type": "execute_result"
    }
   ],
   "source": [
    "milvus_client.get_collection_stats(collection_name='nv_ingest_collection')"
   ]
  },
  {
   "cell_type": "markdown",
   "id": "5a367727-cf33-4242-af2a-1817e9cfdbc1",
   "metadata": {},
   "source": [
    "Next, we'll read in our set of queries and expected retrievals"
   ]
  },
  {
   "cell_type": "code",
   "execution_count": 2,
   "id": "4d756eac-1e8b-42df-bb2d-3578eb58fdf1",
   "metadata": {},
   "outputs": [
    {
     "data": {
      "text/html": [
       "<div>\n",
       "<style scoped>\n",
       "    .dataframe tbody tr th:only-of-type {\n",
       "        vertical-align: middle;\n",
       "    }\n",
       "\n",
       "    .dataframe tbody tr th {\n",
       "        vertical-align: top;\n",
       "    }\n",
       "\n",
       "    .dataframe thead th {\n",
       "        text-align: right;\n",
       "    }\n",
       "</style>\n",
       "<table border=\"1\" class=\"dataframe\">\n",
       "  <thead>\n",
       "    <tr style=\"text-align: right;\">\n",
       "      <th></th>\n",
       "      <th>query</th>\n",
       "      <th>pdf</th>\n",
       "      <th>page</th>\n",
       "      <th>table</th>\n",
       "      <th>pdf_page</th>\n",
       "    </tr>\n",
       "  </thead>\n",
       "  <tbody>\n",
       "    <tr>\n",
       "      <th>0</th>\n",
       "      <td>How much did Pendleton County spend out of the...</td>\n",
       "      <td>1003421</td>\n",
       "      <td>2</td>\n",
       "      <td>1003421_2_0</td>\n",
       "      <td>1003421_2</td>\n",
       "    </tr>\n",
       "    <tr>\n",
       "      <th>1</th>\n",
       "      <td>How many units are occupied by single families...</td>\n",
       "      <td>1008059</td>\n",
       "      <td>6</td>\n",
       "      <td>1008059_6_1</td>\n",
       "      <td>1008059_6</td>\n",
       "    </tr>\n",
       "    <tr>\n",
       "      <th>2</th>\n",
       "      <td>In the Klamath county, what is the total valua...</td>\n",
       "      <td>1008059</td>\n",
       "      <td>6</td>\n",
       "      <td>1008059_6_1</td>\n",
       "      <td>1008059_6</td>\n",
       "    </tr>\n",
       "    <tr>\n",
       "      <th>3</th>\n",
       "      <td>How much did Nalco pay GRIDCO for electricity ...</td>\n",
       "      <td>1011810</td>\n",
       "      <td>21</td>\n",
       "      <td>1011810_21_0</td>\n",
       "      <td>1011810_21</td>\n",
       "    </tr>\n",
       "    <tr>\n",
       "      <th>4</th>\n",
       "      <td>How much coal is used at Alumina refinery of N...</td>\n",
       "      <td>1011810</td>\n",
       "      <td>21</td>\n",
       "      <td>1011810_21_2</td>\n",
       "      <td>1011810_21</td>\n",
       "    </tr>\n",
       "    <tr>\n",
       "      <th>...</th>\n",
       "      <td>...</td>\n",
       "      <td>...</td>\n",
       "      <td>...</td>\n",
       "      <td>...</td>\n",
       "      <td>...</td>\n",
       "    </tr>\n",
       "    <tr>\n",
       "      <th>230</th>\n",
       "      <td>How much is the rental income from water plant...</td>\n",
       "      <td>2407280</td>\n",
       "      <td>30</td>\n",
       "      <td>2407280_30_0</td>\n",
       "      <td>2407280_30</td>\n",
       "    </tr>\n",
       "    <tr>\n",
       "      <th>231</th>\n",
       "      <td>In 2020 how much were the supplemental taxes f...</td>\n",
       "      <td>2415001</td>\n",
       "      <td>65</td>\n",
       "      <td>not detected</td>\n",
       "      <td>2415001_65</td>\n",
       "    </tr>\n",
       "    <tr>\n",
       "      <th>232</th>\n",
       "      <td>As of 2020, what is the total of collections a...</td>\n",
       "      <td>2415001</td>\n",
       "      <td>65</td>\n",
       "      <td>not detected</td>\n",
       "      <td>2415001_65</td>\n",
       "    </tr>\n",
       "    <tr>\n",
       "      <th>233</th>\n",
       "      <td>What was the net gain from the operations of t...</td>\n",
       "      <td>2416020</td>\n",
       "      <td>84</td>\n",
       "      <td>2416020_84_0</td>\n",
       "      <td>2416020_84</td>\n",
       "    </tr>\n",
       "    <tr>\n",
       "      <th>234</th>\n",
       "      <td>What was the highest operating expense in Nove...</td>\n",
       "      <td>2416020</td>\n",
       "      <td>84</td>\n",
       "      <td>2416020_84_0</td>\n",
       "      <td>2416020_84</td>\n",
       "    </tr>\n",
       "  </tbody>\n",
       "</table>\n",
       "<p>235 rows × 5 columns</p>\n",
       "</div>"
      ],
      "text/plain": [
       "                                                 query      pdf  page  \\\n",
       "0    How much did Pendleton County spend out of the...  1003421     2   \n",
       "1    How many units are occupied by single families...  1008059     6   \n",
       "2    In the Klamath county, what is the total valua...  1008059     6   \n",
       "3    How much did Nalco pay GRIDCO for electricity ...  1011810    21   \n",
       "4    How much coal is used at Alumina refinery of N...  1011810    21   \n",
       "..                                                 ...      ...   ...   \n",
       "230  How much is the rental income from water plant...  2407280    30   \n",
       "231  In 2020 how much were the supplemental taxes f...  2415001    65   \n",
       "232  As of 2020, what is the total of collections a...  2415001    65   \n",
       "233  What was the net gain from the operations of t...  2416020    84   \n",
       "234  What was the highest operating expense in Nove...  2416020    84   \n",
       "\n",
       "            table    pdf_page  \n",
       "0     1003421_2_0   1003421_2  \n",
       "1     1008059_6_1   1008059_6  \n",
       "2     1008059_6_1   1008059_6  \n",
       "3    1011810_21_0  1011810_21  \n",
       "4    1011810_21_2  1011810_21  \n",
       "..            ...         ...  \n",
       "230  2407280_30_0  2407280_30  \n",
       "231  not detected  2415001_65  \n",
       "232  not detected  2415001_65  \n",
       "233  2416020_84_0  2416020_84  \n",
       "234  2416020_84_0  2416020_84  \n",
       "\n",
       "[235 rows x 5 columns]"
      ]
     },
     "execution_count": 2,
     "metadata": {},
     "output_type": "execute_result"
    }
   ],
   "source": [
    "df_query = pd.read_csv('table_queries_cleaned_235.csv')[['query','pdf','page','table']]\n",
    "df_query['pdf_page'] = df_query.apply(lambda x: f\"{x.pdf}_{x.page}\", axis=1)\n",
    "df_query"
   ]
  },
  {
   "cell_type": "markdown",
   "id": "043021f2-bd7a-4d2c-9d71-24ed99f89f32",
   "metadata": {},
   "source": [
    "Then, we'll connect LlamaIndex to the Milvus VDB and create a retriever with the NVIDIA `nv-embedqa-e5-v5` model used for the embedding function. When we query the retriever, LLamaIndex will use this model to embed the query and then use that embedding to retrieve entries from our Milvus VDB. \n",
    "\n",
    "**Note:** You *must* use this specific embedding model or the query embeddings won't match up with the embeddings in Milvus. "
   ]
  },
  {
   "cell_type": "code",
   "execution_count": 3,
   "id": "8faf9bc5-af12-42ad-a0f8-077219363c2c",
   "metadata": {},
   "outputs": [],
   "source": [
    "embed_model = NVIDIAEmbedding(model=\"nvidia/nv-embedqa-e5-v5\")\n",
    "\n",
    "vector_store = MilvusVectorStore(\n",
    "    uri=\"http://localhost:19530\",\n",
    "    collection_name=\"nv_ingest_collection\",\n",
    "    doc_id_field=\"pk\",\n",
    "    embedding_field=\"vector\",\n",
    "    text_key=\"text\",\n",
    "    dim=1024,\n",
    "    output_fields=[\"source\", \"content_metadata\"],\n",
    "    overwrite=False\n",
    ")\n",
    "index = VectorStoreIndex.from_vector_store(vector_store=vector_store, embed_model=embed_model)\n",
    "retriever = index.as_retriever(similarity_top_k=10)"
   ]
  },
  {
   "cell_type": "markdown",
   "id": "41cb4243-93c0-47dc-9e90-4fcb666dedfd",
   "metadata": {},
   "source": [
    "Finally, we'll use the retriever to calculate recall scores by checking if a table from the expected pdf and page is retrieved in the top `k` results for `k = 1, 3, 5, 10`"
   ]
  },
  {
   "cell_type": "code",
   "execution_count": null,
   "id": "8f6824f0-ecef-4cda-bd6a-58a8328901b1",
   "metadata": {},
   "outputs": [],
   "source": [
    "#TODO: optionally set reranker"
   ]
  },
  {
   "cell_type": "code",
   "execution_count": 4,
   "id": "ceecfad4-8ec2-42d1-bf51-5566b90b0a0a",
   "metadata": {},
   "outputs": [
    {
     "name": "stderr",
     "output_type": "stream",
     "text": [
      "100%|███████████████████████████████████████████████████████████████████████████████████████████████████████████████████████████████████████████████████████████| 235/235 [01:49<00:00,  2.15it/s]"
     ]
    },
    {
     "name": "stdout",
     "output_type": "stream",
     "text": [
      "  - Recall @1: 0.447\n",
      "  - Recall @3: 0.651\n",
      "  - Recall @5: 0.736\n",
      "  - Recall @10: 0.796\n"
     ]
    },
    {
     "name": "stderr",
     "output_type": "stream",
     "text": [
      "\n"
     ]
    }
   ],
   "source": [
    "hits = defaultdict(list)\n",
    "\n",
    "for i in tqdm(range(len(df_query))):\n",
    "    query = df_query['query'][i]\n",
    "    expected_pdf_page = df_query['pdf_page'][i]\n",
    "    retrieved_answers = retriever.retrieve(query)\n",
    "    retrieved_pdfs = [os.path.basename(json.loads(node.json())[\"node\"][\"metadata\"][\"source\"][\"source_id\"]).split('.')[0] for node in retrieved_answers]\n",
    "    retrieved_pages = [str(json.loads(node.json())[\"node\"][\"metadata\"][\"content_metadata\"][\"page_number\"]) for node in retrieved_answers]\n",
    "    retrieved_pdf_pages = [f\"{pdf}_{page}\" for pdf, page in zip(retrieved_pdfs, retrieved_pages)]\n",
    "\n",
    "    for k in [1, 3, 5, 10]:\n",
    "        hits[k].append(expected_pdf_page in retrieved_pdf_pages[:k])\n",
    "\n",
    "for k in hits:\n",
    "    print(f'  - Recall @{k}: {np.mean(hits[k]) :.3f}')"
   ]
  },
  {
   "cell_type": "markdown",
   "id": "1451a0c5-c5cf-43ca-a6a6-20832210387a",
   "metadata": {},
   "source": [
    "### Calculating chart recall"
   ]
  },
  {
   "cell_type": "markdown",
   "id": "9a3464b4-f157-4dcb-b0aa-2f524fd80f68",
   "metadata": {},
   "source": [
    "Calculating the chart recall is almost exactly the same, but we'll need to empty our Milvus VDB and load the extracted charts and corresponding embeddings in.\n",
    "\n",
    "**Note:** Once again our Milvus VDB will need to be empty meaning the following code should return a row count of `0`."
   ]
  },
  {
   "cell_type": "code",
   "execution_count": 10,
   "id": "3d3c04be-6cdc-43b1-bfac-b69a2901c508",
   "metadata": {},
   "outputs": [
    {
     "data": {
      "text/plain": [
       "{'row_count': 0}"
      ]
     },
     "execution_count": 10,
     "metadata": {},
     "output_type": "execute_result"
    }
   ],
   "source": [
    "milvus_client.get_collection_stats(collection_name='nv_ingest_collection')"
   ]
  },
  {
   "cell_type": "markdown",
   "id": "37cdefec-e63f-484d-843b-7defc2274d5d",
   "metadata": {},
   "source": [
    "Then, we'll create another NV-Ingest job with the extract, embed, and VDB upload tasks, but this time we'll only extract charts instead of tables"
   ]
  },
  {
   "cell_type": "code",
   "execution_count": null,
   "id": "d1e82f9a-0237-4f88-8be5-88a571983a6e",
   "metadata": {},
   "outputs": [],
   "source": [
    "batch_job_spec = BatchJobSpec(\n",
    "    [\n",
    "        \"data/bo767/*.pdf\",\n",
    "    ]\n",
    ")\n",
    "\n",
    "extract_task = ExtractTask(\n",
    "    document_type=\"pdf\",\n",
    "    extract_text=False,\n",
    "    extract_images=False,\n",
    "    extract_tables=False,\n",
    "    extract_charts=True,\n",
    ")\n",
    "\n",
    "embed_task = EmbedTask(\n",
    "    text=False,\n",
    "    tables=True,\n",
    ")\n",
    "\n",
    "vdb_upload_task = VdbUploadTask()\n",
    "\n",
    "batch_job_spec.add_task(extract_task)\n",
    "batch_job_spec.add_task(embed_task)\n",
    "batch_job_spec.add_task(vdb_upload_task)\n",
    "\n",
    "client = NvIngestClient(\n",
    "    message_client_hostname=\"nv-ingest-ms-runtime\",  # Host where nv-ingest-ms-runtime is running\n",
    "    message_client_port=7670,  # REST port, defaults to 7670\n",
    ")\n",
    "job_ids = client.add_job(batch_job_spec)\n",
    "\n",
    "client.submit_job(job_ids, \"morpheus_task_queue\", batch_size=10)\n",
    "result = client.fetch_job_result(job_ids, timeout=60, verbose=True)"
   ]
  },
  {
   "cell_type": "markdown",
   "id": "89f629d4-b93b-4fc6-b077-a70a9bd87991",
   "metadata": {},
   "source": [
    "Now, our extracted tables and their corresponding embeddings are uploaded and indexed in the Milvus VDB"
   ]
  },
  {
   "cell_type": "code",
   "execution_count": 12,
   "id": "45b5fffd-a292-4c2c-935f-6a720de9547f",
   "metadata": {},
   "outputs": [
    {
     "data": {
      "text/plain": [
       "{'row_count': 5665}"
      ]
     },
     "execution_count": 12,
     "metadata": {},
     "output_type": "execute_result"
    }
   ],
   "source": [
    "milvus_client.get_collection_stats(collection_name='nv_ingest_collection')"
   ]
  },
  {
   "cell_type": "markdown",
   "id": "e9880e78-b8f3-457b-9521-e7a37f07a1e2",
   "metadata": {},
   "source": [
    "Then, we'll read in our set of queries and expected retrievals"
   ]
  },
  {
   "cell_type": "code",
   "execution_count": 5,
   "id": "7a396368-ef07-4c5a-afab-ca01e6515ab3",
   "metadata": {},
   "outputs": [
    {
     "data": {
      "text/html": [
       "<div>\n",
       "<style scoped>\n",
       "    .dataframe tbody tr th:only-of-type {\n",
       "        vertical-align: middle;\n",
       "    }\n",
       "\n",
       "    .dataframe tbody tr th {\n",
       "        vertical-align: top;\n",
       "    }\n",
       "\n",
       "    .dataframe thead th {\n",
       "        text-align: right;\n",
       "    }\n",
       "</style>\n",
       "<table border=\"1\" class=\"dataframe\">\n",
       "  <thead>\n",
       "    <tr style=\"text-align: right;\">\n",
       "      <th></th>\n",
       "      <th>query</th>\n",
       "      <th>pdf</th>\n",
       "      <th>page</th>\n",
       "      <th>pdf_page</th>\n",
       "    </tr>\n",
       "  </thead>\n",
       "  <tbody>\n",
       "    <tr>\n",
       "      <th>0</th>\n",
       "      <td>What are the top three consumer complaint cate...</td>\n",
       "      <td>1009210</td>\n",
       "      <td>11</td>\n",
       "      <td>1009210_11</td>\n",
       "    </tr>\n",
       "    <tr>\n",
       "      <th>1</th>\n",
       "      <td>Which 3 categories did extremely well in terms...</td>\n",
       "      <td>1009210</td>\n",
       "      <td>11</td>\n",
       "      <td>1009210_11</td>\n",
       "    </tr>\n",
       "    <tr>\n",
       "      <th>2</th>\n",
       "      <td>What's the longest recent US recession?</td>\n",
       "      <td>1010876</td>\n",
       "      <td>0</td>\n",
       "      <td>1010876_0</td>\n",
       "    </tr>\n",
       "    <tr>\n",
       "      <th>3</th>\n",
       "      <td>Is the 12-Month default rate usually higher th...</td>\n",
       "      <td>1010876</td>\n",
       "      <td>0</td>\n",
       "      <td>1010876_0</td>\n",
       "    </tr>\n",
       "    <tr>\n",
       "      <th>4</th>\n",
       "      <td>Which allegation is submitted highest to RTAs ...</td>\n",
       "      <td>1014669</td>\n",
       "      <td>0</td>\n",
       "      <td>1014669_0</td>\n",
       "    </tr>\n",
       "    <tr>\n",
       "      <th>...</th>\n",
       "      <td>...</td>\n",
       "      <td>...</td>\n",
       "      <td>...</td>\n",
       "      <td>...</td>\n",
       "    </tr>\n",
       "    <tr>\n",
       "      <th>263</th>\n",
       "      <td>After the 2008 recession, what percentage of p...</td>\n",
       "      <td>2384395</td>\n",
       "      <td>6</td>\n",
       "      <td>2384395_6</td>\n",
       "    </tr>\n",
       "    <tr>\n",
       "      <th>264</th>\n",
       "      <td>what were the top 3 major religious groups in ...</td>\n",
       "      <td>2392676</td>\n",
       "      <td>5</td>\n",
       "      <td>2392676_5</td>\n",
       "    </tr>\n",
       "    <tr>\n",
       "      <th>265</th>\n",
       "      <td>What percentage of people in the world identif...</td>\n",
       "      <td>2392676</td>\n",
       "      <td>5</td>\n",
       "      <td>2392676_5</td>\n",
       "    </tr>\n",
       "    <tr>\n",
       "      <th>266</th>\n",
       "      <td>Between 2003 and 2019, has the household mortg...</td>\n",
       "      <td>2410699</td>\n",
       "      <td>189</td>\n",
       "      <td>2410699_189</td>\n",
       "    </tr>\n",
       "    <tr>\n",
       "      <th>267</th>\n",
       "      <td>When did the total household mortgage debt in ...</td>\n",
       "      <td>2410699</td>\n",
       "      <td>189</td>\n",
       "      <td>2410699_189</td>\n",
       "    </tr>\n",
       "  </tbody>\n",
       "</table>\n",
       "<p>268 rows × 4 columns</p>\n",
       "</div>"
      ],
      "text/plain": [
       "                                                 query      pdf  page  \\\n",
       "0    What are the top three consumer complaint cate...  1009210    11   \n",
       "1    Which 3 categories did extremely well in terms...  1009210    11   \n",
       "2              What's the longest recent US recession?  1010876     0   \n",
       "3    Is the 12-Month default rate usually higher th...  1010876     0   \n",
       "4    Which allegation is submitted highest to RTAs ...  1014669     0   \n",
       "..                                                 ...      ...   ...   \n",
       "263  After the 2008 recession, what percentage of p...  2384395     6   \n",
       "264  what were the top 3 major religious groups in ...  2392676     5   \n",
       "265  What percentage of people in the world identif...  2392676     5   \n",
       "266  Between 2003 and 2019, has the household mortg...  2410699   189   \n",
       "267  When did the total household mortgage debt in ...  2410699   189   \n",
       "\n",
       "        pdf_page  \n",
       "0     1009210_11  \n",
       "1     1009210_11  \n",
       "2      1010876_0  \n",
       "3      1010876_0  \n",
       "4      1014669_0  \n",
       "..           ...  \n",
       "263    2384395_6  \n",
       "264    2392676_5  \n",
       "265    2392676_5  \n",
       "266  2410699_189  \n",
       "267  2410699_189  \n",
       "\n",
       "[268 rows x 4 columns]"
      ]
     },
     "execution_count": 5,
     "metadata": {},
     "output_type": "execute_result"
    }
   ],
   "source": [
    "df_query = pd.read_csv('charts_with_page_num_fixed.csv')[['query','pdf','page']]\n",
    "df_query['page'] = df_query['page']-1 # page -1 because the page number starts with 1 in that csv\n",
    "df_query['pdf_page'] = df_query.apply(lambda x: f\"{x.pdf}_{x.page}\", axis=1) \n",
    "df_query"
   ]
  },
  {
   "cell_type": "markdown",
   "id": "55abc6cb-6e1d-4444-8594-e58be5c5c974",
   "metadata": {},
   "source": [
    "And finally we can use our LlamaIndex retriever from earlier to calculate recall scores in the same manner"
   ]
  },
  {
   "cell_type": "code",
   "execution_count": null,
   "id": "1eb34926-3eaa-44c3-baf3-0a62663a5996",
   "metadata": {},
   "outputs": [],
   "source": [
    "# TODO: optionally set reranker "
   ]
  },
  {
   "cell_type": "code",
   "execution_count": 7,
   "id": "8aa11dcd-d802-4ad6-a628-dcdeba15d8f6",
   "metadata": {},
   "outputs": [
    {
     "name": "stderr",
     "output_type": "stream",
     "text": [
      "100%|██████████████████████████████████████████████████████████████████████████████████████████████████████████████████████████████████████████████████████████████████████████████████████████████████████████████████████████████████████████████████████████████████████████████████████████████████████████████████████████████████████████████████████████████████████████████████████████████████| 268/268 [02:16<00:00,  1.96it/s]"
     ]
    },
    {
     "name": "stdout",
     "output_type": "stream",
     "text": [
      "  - Recall @1: 0.593\n",
      "  - Recall @3: 0.713\n",
      "  - Recall @5: 0.757\n",
      "  - Recall @10: 0.810\n"
     ]
    },
    {
     "name": "stderr",
     "output_type": "stream",
     "text": [
      "\n"
     ]
    }
   ],
   "source": [
    "hits = defaultdict(list)\n",
    "\n",
    "for i in tqdm(range(len(df_query))):\n",
    "    query = df_query['query'][i]\n",
    "    expected_pdf_page = df_query['pdf_page'][i]\n",
    "    retrieved_answers = retriever.retrieve(query)\n",
    "    retrieved_pdfs = [os.path.basename(json.loads(node.json())[\"node\"][\"metadata\"][\"source\"][\"source_id\"]).split('.')[0] for node in retrieved_answers]\n",
    "    retrieved_pages = [str(json.loads(node.json())[\"node\"][\"metadata\"][\"content_metadata\"][\"page_number\"]) for node in retrieved_answers]\n",
    "    retrieved_pdf_pages = [f\"{pdf}_{page}\" for pdf, page in zip(retrieved_pdfs, retrieved_pages)]\n",
    "\n",
    "    if \n",
    "\n",
    "    for k in [1, 3, 5, 10]:\n",
    "        hits[k].append(expected_pdf_page in retrieved_pdf_pages[:k])\n",
    "\n",
    "for k in hits:\n",
    "    print(f'  - Recall @{k}: {np.mean(hits[k]) :.3f}')"
   ]
  },
  {
   "cell_type": "code",
   "execution_count": null,
   "id": "3417c296-c4f7-45db-aaf6-acaa26dc720a",
   "metadata": {},
   "outputs": [],
   "source": []
  }
 ],
 "metadata": {
  "kernelspec": {
   "display_name": "Python 3 (ipykernel)",
   "language": "python",
   "name": "python3"
  },
  "language_info": {
   "codemirror_mode": {
    "name": "ipython",
    "version": 3
   },
   "file_extension": ".py",
   "mimetype": "text/x-python",
   "name": "python",
   "nbconvert_exporter": "python",
   "pygments_lexer": "ipython3",
   "version": "3.10.15"
  }
 },
 "nbformat": 4,
 "nbformat_minor": 5
}
